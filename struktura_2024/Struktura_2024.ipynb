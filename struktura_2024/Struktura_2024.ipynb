{
  "nbformat": 4,
  "nbformat_minor": 0,
  "metadata": {
    "colab": {
      "provenance": [],
      "include_colab_link": true
    },
    "kernelspec": {
      "name": "python3",
      "display_name": "Python 3"
    },
    "language_info": {
      "name": "python"
    }
  },
  "cells": [
    {
      "cell_type": "markdown",
      "metadata": {
        "id": "view-in-github",
        "colab_type": "text"
      },
      "source": [
        "<a href=\"https://colab.research.google.com/github/cctbx/cctbx_tutorials/blob/main/struktura_2024/Struktura_2024.ipynb\" target=\"_parent\"><img src=\"https://colab.research.google.com/assets/colab-badge.svg\" alt=\"Open In Colab\"/></a>"
      ]
    },
    {
      "cell_type": "markdown",
      "source": [
        "# **Introduction to CCTBX**\n",
        "\n",
        "The CCTBX project (computational crystallography toolbox) initially started as a library containing algorithms for the handling of unit cells, space groups, and atomic scatterers. Since then it has grown into a large project to support a variety of structural biology workflows, including x-ray and neutron crystallography, cryo-electron microscopy, and x-ray free electron lasers.\n",
        "\n",
        "The CCTBX library is written in Python, with many of the lower level algorithms accelerated using C++ via the Boost Python bindings.\n",
        "\n",
        "The principal high-level cctbx objects are:\n",
        "\n",
        "*   Data Manager: Read and write files and keep track of them\n",
        "*   Model Manager: A molecular model or models and restraints that go with them\n",
        "*   Map Manager: A 3D map or maps and information about gridding and map symmetry\n",
        "*   Map Model Manager: One or more related maps and models as a group\n",
        "*   F-Model Manager: Combines a model and a related Miller array (map coefficeints, or other data for each index of a map)\n",
        "\n",
        "These high-level cctbx objects are composed of lower-level objects that implement various concepts in macromolecular crystallography, which are in turn composed of CCTBX flex arrays for efficient computation of numerical data. Finally, user defined parameters are managed and shared betwen objects using the CCTBX Phil module.\n",
        "\n",
        "The examples presented here aim to illustrate working with the core CCTBX data types using example data. Much of the content is adapted from the official CCTBX documentation: http://cci.lbl.gov/docs/cctbx/"
      ],
      "metadata": {
        "id": "_h9_proIGAfn"
      }
    },
    {
      "cell_type": "markdown",
      "source": [
        "# **Setting up cctbx**\n",
        "First we need to set up the cctbx in this colab. Execute the following cells to install condacolab.\n",
        "\n"
      ],
      "metadata": {
        "id": "NK5osWqIHjPy"
      }
    },
    {
      "cell_type": "code",
      "execution_count": null,
      "metadata": {
        "id": "ft3z-TiIKKmM",
        "outputId": "e7670e38-fbe5-48c9-be91-7439991f39d5",
        "colab": {
          "base_uri": "https://localhost:8080/"
        },
        "cellView": "form"
      },
      "outputs": [
        {
          "output_type": "stream",
          "name": "stdout",
          "text": [
            "✨🍰✨ Everything looks OK!\n"
          ]
        }
      ],
      "source": [
        "#@title Install condacolab so that conda packages can be used\n",
        "\n",
        "# Install condacolab so that conda packages can be used\n",
        "# https://github.com/conda-incubator/condacolab\n",
        "#\n",
        "# Important notes\n",
        "# https://github.com/conda-incubator/condacolab#shortcomings\n",
        "# 1) The kernel will automatically be restarted and show an error message about\n",
        "#    a crash (\"Your session crashed for an unknown reason\").\n",
        "#    The error can be ignored.\n",
        "# 2) Only the \"base\" environment is available, so do not create a separate\n",
        "#    environment for packages.\n",
        "!pip install -q condacolab\n",
        "import condacolab\n",
        "condacolab.install()"
      ]
    },
    {
      "cell_type": "code",
      "source": [
        "#@title Install cctbx-base\n",
        "# Wait until the error message appears near the bottom of the notebook before\n",
        "# proceeding.\n",
        "!conda install -q cctbx-base\n",
        "\n",
        "# conda installs ${CONDA_PREFIX}/share/cctbx into /usr/local instead of /usr\n",
        "# Make a copy to avoid errors\n",
        "!cp -af /usr/local/share/cctbx /usr/share/\n",
        "\n",
        "# sys.path does not have some directories with libraries, so add them here\n",
        "import sys\n",
        "py_ver = f'{sys.version_info.major}.{sys.version_info.minor}'\n",
        "for d in [f'/usr/local/lib/python{py_ver}/lib-dynload', '/usr/local/lib']:\n",
        "  if d not in sys.path:\n",
        "    sys.path.insert(0, d)\n",
        "\n",
        "# final check\n",
        "import os\n",
        "if os.path.isdir('/usr/local/share/cctbx') \\\n",
        "  and f'/usr/local/lib/python{py_ver}/lib-dynload' in sys.path \\\n",
        "  and '/usr/local/lib' in sys.path:\n",
        "  print('Finished installing cctbx-base')\n",
        "else:\n",
        "  raise RuntimeError('There was an error fixing up the installation of cctbx-base')\n"
      ],
      "metadata": {
        "id": "TFtfP--2Kdnn",
        "outputId": "8d1f6059-f24d-469d-bb3e-e8df80aae441",
        "colab": {
          "base_uri": "https://localhost:8080/"
        },
        "cellView": "form"
      },
      "execution_count": null,
      "outputs": [
        {
          "output_type": "stream",
          "name": "stdout",
          "text": [
            "Channels:\n",
            " - conda-forge\n",
            "Platform: linux-64\n",
            "Collecting package metadata (repodata.json): ...working... done\n",
            "Solving environment: ...working... done\n",
            "\n",
            "# All requested packages already installed.\n",
            "\n",
            "Finished installing cctbx-base\n"
          ]
        }
      ]
    },
    {
      "cell_type": "markdown",
      "source": [
        "# **Test installation**\n",
        "\n",
        "Let's check if everything worked by running some cctbx code.\n",
        "\n",
        "We'll create 100 random numbers in a flex array."
      ],
      "metadata": {
        "id": "AArepWKhJ587"
      }
    },
    {
      "cell_type": "code",
      "source": [
        "import cctbx\n",
        "from scitbx.array_family import flex\n",
        "a = flex.random_double(100)\n",
        "print('Smallest value among the 100 values: ', flex.min(a))\n",
        "print('Size of the array: ', a.size())"
      ],
      "metadata": {
        "colab": {
          "base_uri": "https://localhost:8080/"
        },
        "id": "uUYSkoD-Mt1Y",
        "outputId": "ebce789e-6144-47ba-a00d-5e65a55076cf"
      },
      "execution_count": null,
      "outputs": [
        {
          "output_type": "stream",
          "name": "stdout",
          "text": [
            "Smallest value among the 100 values:  0.021549243146825492\n",
            "Size of the array:  100\n"
          ]
        }
      ]
    },
    {
      "cell_type": "markdown",
      "source": [
        "\n",
        "Thanks to Georg Mlynek for this example!\n"
      ],
      "metadata": {
        "id": "lf7aIciaM5OW"
      }
    },
    {
      "cell_type": "code",
      "source": [
        "from cctbx import crystal, miller\n",
        "\n",
        "crystal_symmetry = crystal.symmetry((10, 20, 30, 90, 90, 90), 'P212121')\n",
        "ms = miller.build_set(\n",
        "    crystal_symmetry=crystal_symmetry,\n",
        "    anomalous_flag=True,\n",
        "    d_min=2,\n",
        "    d_max=10\n",
        ")\n",
        "crystal_symmetry.show_summary()\n",
        "print('Resolution range', ms.d_max_min())\n",
        "print('Number of reflections', ms.indices().size())"
      ],
      "metadata": {
        "id": "jug2vYAgLpQF",
        "outputId": "fd1d651d-4150-4a2d-ebb6-d0ae2bd8e046",
        "colab": {
          "base_uri": "https://localhost:8080/"
        }
      },
      "execution_count": null,
      "outputs": [
        {
          "output_type": "stream",
          "name": "stdout",
          "text": [
            "Unit cell: (10, 20, 30, 90, 90, 90)\n",
            "Space group: P 21 21 21 (No. 19)\n",
            "Resolution range (10.0, 2.0)\n",
            "Number of reflections 762\n"
          ]
        }
      ]
    },
    {
      "cell_type": "markdown",
      "source": [
        "# **File IO with the DataManager**\n",
        "\n",
        "When you want to perform some actions on data or a model, you have to start with reading the file. Once the action is done, you probably want to write the files.\n",
        "\n",
        "To do this conveniently, you can use the cctbx DataManager. The DataManager lets you read and write files describing atomic models, restraints, reflection data files, symmetry files, sequence files, and MRC/CCP4 format map files."
      ],
      "metadata": {
        "id": "lWAxkuq1OBpq"
      }
    },
    {
      "cell_type": "code",
      "source": [
        "from libtbx.program_template import ProgramTemplate\n",
        "from libtbx.utils import Sorry\n",
        "\n",
        "class TestProgram(ProgramTemplate):\n",
        "  program_name = \"new_program\"\n",
        "  description = \"\"\"\n",
        "This is a demo of my new program\n",
        "\"\"\"\n",
        "  master_phil_str = \"\"\"\n",
        "general_param = None\n",
        "  .type = str\n",
        "  .help = A general parameter that is a string\n",
        "bool_param = None\n",
        "  .type = bool\n",
        "  .help = Something that is True or False\n",
        "parameter_section {\n",
        "  specific_param_1 = 0\n",
        "    .type = int\n",
        "    .help = This is an example of a numerical parameter in a PHIL section\n",
        "  specific_param_2 = 3.14\n",
        "    .type = float\n",
        "    .help = This is another example\n",
        "}\n",
        "\"\"\"\n",
        "  def validate(self):\n",
        "    if self.params.parameter_section.specific_param_1 < 0:\n",
        "      raise Sorry(\"The specific_param_1 must be 0 or greater\")\n",
        "\n",
        "  def run(self):\n",
        "    # just add some numbers\n",
        "    self.results = self.params.parameter_section.specific_param_1 + self.params.parameter_section.specific_param_2\n",
        "    self._print(self.results)\n",
        "\n",
        "  def get_results(self):\n",
        "    return self.results"
      ],
      "metadata": {
        "id": "grsKrY_6hvFC"
      },
      "execution_count": null,
      "outputs": []
    },
    {
      "cell_type": "code",
      "source": [
        "from iotbx.cli_parser import run_program\n",
        "\n",
        "#run_program(program_class=TestProgram, args=[])\n",
        "run_program(program_class=TestProgram, args=['bool_param=False', 'param_1=10'])"
      ],
      "metadata": {
        "id": "PPwl12CAHnwp",
        "outputId": "8f7347bb-a560-42aa-85c3-6840395bf9f9",
        "colab": {
          "base_uri": "https://localhost:8080/"
        }
      },
      "execution_count": null,
      "outputs": [
        {
          "output_type": "stream",
          "name": "stdout",
          "text": [
            "Starting new_program\n",
            "on Tue Sep 10 18:21:46 2024 by root\n",
            "===============================================================================\n",
            "\n",
            "Processing files:\n",
            "-------------------------------------------------------------------------------\n",
            "\n",
            "  No files found\n",
            "\n",
            "Processing PHIL parameters:\n",
            "-------------------------------------------------------------------------------\n",
            "\n",
            "  Adding command-line PHIL:\n",
            "  -------------------------\n",
            "    bool_param=False\n",
            "    param_1=10\n",
            "\n",
            "Final processed PHIL parameters:\n",
            "-------------------------------------------------------------------------------\n",
            "  bool_param = False\n",
            "  parameter_section {\n",
            "    specific_param_1 = 10\n",
            "  }\n",
            "\n",
            "\n",
            "Starting job\n",
            "===============================================================================\n",
            "13.14\n",
            "\n",
            "===============================================================================\n",
            "Job complete\n",
            "usr+sys time: 17.32 seconds\n",
            "wall clock time: 17.35 seconds\n"
          ]
        },
        {
          "output_type": "execute_result",
          "data": {
            "text/plain": [
              "13.14"
            ]
          },
          "metadata": {},
          "execution_count": 33
        }
      ]
    },
    {
      "cell_type": "code",
      "source": [],
      "metadata": {
        "id": "RnlRBkojIAKI"
      },
      "execution_count": null,
      "outputs": []
    }
  ]
}