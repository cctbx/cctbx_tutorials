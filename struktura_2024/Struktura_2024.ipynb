{
  "nbformat": 4,
  "nbformat_minor": 0,
  "metadata": {
    "colab": {
      "provenance": [],
      "include_colab_link": true
    },
    "kernelspec": {
      "name": "python3",
      "display_name": "Python 3"
    },
    "language_info": {
      "name": "python"
    }
  },
  "cells": [
    {
      "cell_type": "markdown",
      "metadata": {
        "id": "view-in-github",
        "colab_type": "text"
      },
      "source": [
        "<a href=\"https://colab.research.google.com/github/cctbx/cctbx_tutorials/blob/main/struktura_2024/Struktura_2024.ipynb\" target=\"_parent\"><img src=\"https://colab.research.google.com/assets/colab-badge.svg\" alt=\"Open In Colab\"/></a>"
      ]
    },
    {
      "cell_type": "markdown",
      "source": [
        "# **Introduction to CCTBX**\n",
        "\n",
        "The CCTBX project (computational crystallography toolbox) initially started as a library containing algorithms for the handling of unit cells, space groups, and atomic scatterers. Since then it has grown into a large project to support a variety of structural biology workflows, including x-ray and neutron crystallography, cryo-electron microscopy, and x-ray free electron lasers.\n",
        "\n",
        "The CCTBX library is written in Python, with many of the lower level algorithms accelerated using C++ via the Boost Python bindings.\n",
        "\n",
        "The principal high-level cctbx objects are:\n",
        "\n",
        "*   Data Manager: Read and write files and keep track of them\n",
        "*   Model Manager: A molecular model or models and restraints that go with them\n",
        "*   Map Manager: A 3D map or maps and information about gridding and map symmetry\n",
        "*   Map Model Manager: One or more related maps and models as a group\n",
        "*   F-Model Manager: Combines a model and a related Miller array (map coefficeints, or other data for each index of a map)\n",
        "\n",
        "These high-level cctbx objects are composed of lower-level objects that implement various concepts in macromolecular crystallography, which are in turn composed of CCTBX flex arrays for efficient computation of numerical data. Finally, user defined parameters are managed and shared betwen objects using the CCTBX Phil module.\n",
        "\n",
        "The examples presented here aim to illustrate working with the core CCTBX data types using example data. Much of the content is adapted from the official CCTBX documentation: http://cci.lbl.gov/docs/cctbx/"
      ],
      "metadata": {
        "id": "_h9_proIGAfn"
      }
    },
    {
      "cell_type": "markdown",
      "source": [
        "# **Setting up cctbx**\n",
        "First we need to set up the cctbx in this colab. Execute the following cells to install condacolab.\n",
        "\n"
      ],
      "metadata": {
        "id": "NK5osWqIHjPy"
      }
    },
    {
      "cell_type": "code",
      "execution_count": null,
      "metadata": {
        "id": "ft3z-TiIKKmM",
        "cellView": "form"
      },
      "outputs": [],
      "source": [
        "#@title Install condacolab so that conda packages can be used\n",
        "\n",
        "# Install condacolab so that conda packages can be used\n",
        "# https://github.com/conda-incubator/condacolab\n",
        "#\n",
        "# Important notes\n",
        "# https://github.com/conda-incubator/condacolab#shortcomings\n",
        "# 1) The kernel will automatically be restarted and show an error message about\n",
        "#    a crash (\"Your session crashed for an unknown reason\").\n",
        "#    The error can be ignored.\n",
        "# 2) Only the \"base\" environment is available, so do not create a separate\n",
        "#    environment for packages.\n",
        "!pip install -q condacolab\n",
        "import condacolab\n",
        "condacolab.install()"
      ]
    },
    {
      "cell_type": "code",
      "source": [
        "#@title Install cctbx-base\n",
        "# Wait until the error message appears near the bottom of the notebook before\n",
        "# proceeding.\n",
        "!conda install -q cctbx-base\n",
        "\n",
        "# conda installs ${CONDA_PREFIX}/share/cctbx into /usr/local instead of /usr\n",
        "# Make a copy to avoid errors\n",
        "!cp -af /usr/local/share/cctbx /usr/share/\n",
        "\n",
        "# sys.path does not have some directories with libraries, so add them here\n",
        "import sys\n",
        "py_ver = f'{sys.version_info.major}.{sys.version_info.minor}'\n",
        "for d in [f'/usr/local/lib/python{py_ver}/lib-dynload', '/usr/local/lib']:\n",
        "  if d not in sys.path:\n",
        "    sys.path.insert(0, d)\n",
        "\n",
        "# final check\n",
        "import os\n",
        "if os.path.isdir('/usr/local/share/cctbx') \\\n",
        "  and f'/usr/local/lib/python{py_ver}/lib-dynload' in sys.path \\\n",
        "  and '/usr/local/lib' in sys.path:\n",
        "  print('Finished installing cctbx-base')\n",
        "else:\n",
        "  raise RuntimeError('There was an error fixing up the installation of cctbx-base')\n"
      ],
      "metadata": {
        "id": "TFtfP--2Kdnn",
        "collapsed": true,
        "cellView": "form"
      },
      "execution_count": null,
      "outputs": []
    },
    {
      "cell_type": "markdown",
      "source": [
        "# **Test installation**\n",
        "\n",
        "Let's check if everything worked by running some cctbx code.\n",
        "\n",
        "We'll create 100 random numbers in a flex array. Then we print some properties of this array, i.e. the smallest value and the length of the array."
      ],
      "metadata": {
        "id": "AArepWKhJ587"
      }
    },
    {
      "cell_type": "code",
      "source": [
        "from scitbx.array_family import flex\n",
        "a = flex.random_double(100)\n",
        "print('Smallest value among the 100 values: ', flex.min(a))\n",
        "print('Size of the array: ', a.size())"
      ],
      "metadata": {
        "id": "uUYSkoD-Mt1Y"
      },
      "execution_count": null,
      "outputs": []
    },
    {
      "cell_type": "markdown",
      "source": [
        "Many people ask why CCTBX continues to use flex arrays.\n",
        "\n",
        "At the time CCTBX was developed, NumPy had not yet been created. Flex arrays were specifically designed to meet the needs of the CCTBX library, with two key advantages:\n",
        "\n",
        "\n",
        "*   flex arrays have a native C++ interface\n",
        "*   there can be arrays of user defined types"
      ],
      "metadata": {
        "id": "lf7aIciaM5OW"
      }
    },
    {
      "cell_type": "markdown",
      "source": [
        "# **File IO with the DataManager**\n",
        "\n",
        "When you want to perform some actions on data or a model, you have to start with reading the file. Once the action is done, you probably want to write the files.\n",
        "\n",
        "To do this conveniently, you can use the cctbx DataManager. The DataManager lets you read and write files describing atomic models, restraints, reflection data files, symmetry files, sequence files, and MRC/CCP4 format map files.\n",
        "\n",
        "First, download an example file from the PDB (model 1aba):"
      ],
      "metadata": {
        "id": "lWAxkuq1OBpq"
      }
    },
    {
      "cell_type": "code",
      "source": [
        "!wget https://files.rcsb.org/view/1ABA.pdb"
      ],
      "metadata": {
        "collapsed": true,
        "id": "rDawfKTQsTKN"
      },
      "execution_count": null,
      "outputs": []
    },
    {
      "cell_type": "markdown",
      "source": [
        "We can also run linux shell commands from Colab cells, either using the %shell syntax, or the ! prefix for a single line. Lets check if we got our example files."
      ],
      "metadata": {
        "id": "plT366V65Grq"
      }
    },
    {
      "cell_type": "code",
      "source": [
        "! ls"
      ],
      "metadata": {
        "id": "vntWaRBD5HVl"
      },
      "execution_count": null,
      "outputs": []
    },
    {
      "cell_type": "markdown",
      "source": [
        "Then let's read in this model file with the DataManager (this works for mmcif files, too!)."
      ],
      "metadata": {
        "id": "pUg_ijOXs2-m"
      }
    },
    {
      "cell_type": "code",
      "source": [
        "from iotbx.data_manager import DataManager\n",
        "dm = DataManager()\n",
        "model_1 = \"1ABA.pdb\"\n",
        "dm.process_model_file(model_1)"
      ],
      "metadata": {
        "id": "NfzbeBrMsWJ0"
      },
      "execution_count": null,
      "outputs": []
    },
    {
      "cell_type": "markdown",
      "source": [
        "The data manager has now read our file. If desired, a single DataManager instance can read many files and store them simultaneously. To access objects from a specific file, we can request it using the filename as the key. Here we create a model object (we'll see more on that later) for structure 1ABA.\n"
      ],
      "metadata": {
        "id": "6vG9kG38tYEB"
      }
    },
    {
      "cell_type": "code",
      "source": [
        "model_1_obj = dm.get_model(filename=model_1)"
      ],
      "metadata": {
        "id": "7dlvOI-euF6R"
      },
      "execution_count": null,
      "outputs": []
    },
    {
      "cell_type": "markdown",
      "source": [
        "To save a model to the disk, we also use the DataManager. One of its many advantages is the ability to handle multiple file formats transparently."
      ],
      "metadata": {
        "id": "1HI6JA7Pxt-G"
      }
    },
    {
      "cell_type": "code",
      "source": [
        "filename_cif = \"1aba_model.cif\"\n",
        "dm.write_model_file(model_1_obj, filename=filename_cif, format=\"cif\", overwrite=True)"
      ],
      "metadata": {
        "id": "ebkbpTIl4mQB"
      },
      "execution_count": null,
      "outputs": []
    },
    {
      "cell_type": "markdown",
      "source": [
        "Lets check to make sure it worked. The following command shows the first 20 lines of the 1ABA mmcif file.\n"
      ],
      "metadata": {
        "id": "Zz7fAYgc40J6"
      }
    },
    {
      "cell_type": "code",
      "source": [
        "! head 1aba_model.cif -n 20"
      ],
      "metadata": {
        "id": "K-YgbarU405J"
      },
      "execution_count": null,
      "outputs": []
    },
    {
      "cell_type": "markdown",
      "source": [
        "The DataManager can handle data files, too. Let's get the reflection file for model 1ABA."
      ],
      "metadata": {
        "id": "uqiaMYe45lxL"
      }
    },
    {
      "cell_type": "code",
      "source": [
        "!rm 1ABA-sf.cif 1ABA-sf.cif.gz 1ABA.mtz\n",
        "!wget https://files.rcsb.org/download/1ABA-sf.cif.gz\n",
        "!gunzip 1ABA-sf.cif.gz\n",
        "!ls"
      ],
      "metadata": {
        "collapsed": true,
        "id": "F8hcuqD55_BO"
      },
      "execution_count": null,
      "outputs": []
    },
    {
      "cell_type": "markdown",
      "source": [
        "You can convert the structure factor cif file to mtz with the following command. You could also do it on a lower level (operating with miller arrays - we'll cover these later), but this way may be the easiest."
      ],
      "metadata": {
        "id": "40MYSRTx7Vik"
      }
    },
    {
      "cell_type": "code",
      "source": [
        "from mmtbx.command_line import cif_as_mtz\n",
        "cif_as_mtz.run(args=[\n",
        "    \"1ABA-sf.cif\",\n",
        "    \"--symmetry=1ABA.pdb\",\n",
        "    \"--merge\",\n",
        "    \"--output_file_name=1ABA.mtz\"])"
      ],
      "metadata": {
        "collapsed": true,
        "id": "dfdr8xS18J4I"
      },
      "execution_count": null,
      "outputs": []
    },
    {
      "cell_type": "markdown",
      "source": [
        "Let's check if the file has been created."
      ],
      "metadata": {
        "id": "Z0a0gHbB9HK_"
      }
    },
    {
      "cell_type": "code",
      "source": [
        "!ls"
      ],
      "metadata": {
        "id": "0-gfA64y9FYF"
      },
      "execution_count": null,
      "outputs": []
    },
    {
      "cell_type": "markdown",
      "source": [
        "Now let's read this file with the DataManager."
      ],
      "metadata": {
        "id": "wxArHSfz9Rb5"
      }
    },
    {
      "cell_type": "code",
      "source": [
        "dm.process_miller_array_file('1ABA.mtz')"
      ],
      "metadata": {
        "id": "sN5oveWD9UeB"
      },
      "execution_count": null,
      "outputs": []
    },
    {
      "cell_type": "markdown",
      "source": [
        "Now your DataManager has processed the model and the data for structure 1ABA. We are ready to create cctbx objects and do something with them. Let's start with the model object."
      ],
      "metadata": {
        "id": "WOM5XkcdFZ_p"
      }
    },
    {
      "cell_type": "markdown",
      "source": [
        "# **The cctbx model object**\n",
        "\n",
        " The cctbx model object stores all information related to a molecular model. This includes the molecular composition, space group and symmetry information, information about stereochemical restraints, and any metadata that was available in the input file.\n",
        "\n",
        " This is how you get the model object from the DataManager.\n",
        "\n"
      ],
      "metadata": {
        "id": "Lt2R530lFjTL"
      }
    },
    {
      "cell_type": "code",
      "source": [
        "model_1_ob = dm.get_model(filename=model_1)"
      ],
      "metadata": {
        "id": "i9-6By6dGEZR"
      },
      "execution_count": null,
      "outputs": []
    },
    {
      "cell_type": "markdown",
      "source": [
        " The model object has a lot of methods, you can list them with the the `dir` function."
      ],
      "metadata": {
        "id": "ZodZs8qJGFHY"
      }
    },
    {
      "cell_type": "code",
      "source": [
        "print(dir(model_1_ob))"
      ],
      "metadata": {
        "id": "aWE0XkgwGXau"
      },
      "execution_count": null,
      "outputs": []
    },
    {
      "cell_type": "markdown",
      "source": [
        "## How to access metadata\n",
        "First we will consider the model metadata which is stored in the model input object. In contrast to the model composition which is highly structured data, the model input can vary substantially depending on the source of the file and what the authors chose to include. Lets take a look at the model input for this file. Execute the cell below to get the model_input object."
      ],
      "metadata": {
        "id": "omfLc0DkGdX9"
      }
    },
    {
      "cell_type": "code",
      "source": [
        "model_input= model_1_ob.get_model_input()"
      ],
      "metadata": {
        "id": "Ilge4APrGtxQ"
      },
      "execution_count": null,
      "outputs": []
    },
    {
      "cell_type": "markdown",
      "source": [
        "Now let's print out some characteristics.| Some fields are structured, and are directly accessible by member functions."
      ],
      "metadata": {
        "id": "SxhUXVfgG5fd"
      }
    },
    {
      "cell_type": "code",
      "source": [
        "print(model_input.file_type())\n",
        "print(model_input.get_experiment_type())\n",
        "print(model_input.get_program_name())\n",
        "print(model_input.deposition_date())\n",
        "print(model_input.resolution())\n",
        "print(model_input.sequence_from_SEQRES())"
      ],
      "metadata": {
        "id": "em6krlefHAgK"
      },
      "execution_count": null,
      "outputs": []
    },
    {
      "cell_type": "markdown",
      "source": [
        "The entire contents of the file are retained, and can be parsed to extract miscellaneous fields. Note that some fields relating to the data may not be populated."
      ],
      "metadata": {
        "id": "Z3LQZclUHNTz"
      }
    },
    {
      "cell_type": "code",
      "source": [
        "# Get the whole title section of the pdb\n",
        "print(\"\\n\".join(model_input.title_section()))"
      ],
      "metadata": {
        "id": "lOAiVJS6HOBp"
      },
      "execution_count": null,
      "outputs": []
    },
    {
      "cell_type": "markdown",
      "source": [
        "You can also access specific REMARK records, such as REMARK 3."
      ],
      "metadata": {
        "id": "ml6Y24H1Hqfe"
      }
    },
    {
      "cell_type": "code",
      "source": [
        "remark_3_records = model_input.extract_remark_iii_records(3)\n",
        "for rem in remark_3_records[:6]:\n",
        "  print(rem)"
      ],
      "metadata": {
        "id": "PBq6k4qQHuvx"
      },
      "execution_count": null,
      "outputs": []
    },
    {
      "cell_type": "markdown",
      "source": [
        "## Crystal Symmetry\n",
        "The crystal symmetry object stores structured data about the unit cell and space group"
      ],
      "metadata": {
        "id": "jtZxHHo_H5HU"
      }
    },
    {
      "cell_type": "code",
      "source": [
        "crystal_symmetry = model_1_ob.crystal_symmetry()\n",
        "crystal_symmetry.show_summary()"
      ],
      "metadata": {
        "id": "uj9tlkBYIIz-"
      },
      "execution_count": null,
      "outputs": []
    },
    {
      "cell_type": "markdown",
      "source": [
        "Here is how you can get the unit cell, space group, and operators."
      ],
      "metadata": {
        "id": "0j_uflrdIFrZ"
      }
    },
    {
      "cell_type": "code",
      "source": [
        "# unit cell\n",
        "print(crystal_symmetry.unit_cell())\n",
        "# space group number\n",
        "print(crystal_symmetry.space_group_number())\n",
        "# symbol and number\n",
        "print(crystal_symmetry.space_group_info().symbol_and_number())\n",
        "# space group operators\n",
        "ops = crystal_symmetry.space_group().all_ops()\n",
        "for op in ops:\n",
        "  print(op)"
      ],
      "metadata": {
        "id": "dYfAiDYVIxn5"
      },
      "execution_count": null,
      "outputs": []
    },
    {
      "cell_type": "markdown",
      "source": [
        "# The pdb hierarchy\n",
        "The pdb hierarchy is the cctbx object that represents the information stored in a model file. In particular, this object maintains the hierarchical view of the model. It is independent of the original file format, i.e. the hierarchy object doesn't know or care if the original file was a PDB file, mmCIF file, or any other molecular file format.\n",
        "\n",
        "Let's get the pdb hierarchy for our toy example."
      ],
      "metadata": {
        "id": "AfDlSinbI_oS"
      }
    },
    {
      "cell_type": "code",
      "source": [
        "hierarchy = model_1_obj.get_hierarchy()"
      ],
      "metadata": {
        "id": "pQ-sm6gyJDm0"
      },
      "execution_count": null,
      "outputs": []
    },
    {
      "cell_type": "markdown",
      "source": [
        "Now let's have a look at the compososition of the model. How many chains are in this model? How many ligands?"
      ],
      "metadata": {
        "id": "_JY_24joYLnm"
      }
    },
    {
      "cell_type": "code",
      "source": [
        "print(hierarchy.composition())"
      ],
      "metadata": {
        "id": "6-SqqBvqYmWs"
      },
      "execution_count": null,
      "outputs": []
    },
    {
      "cell_type": "markdown",
      "source": [
        "The composition method returns a group_args object. This is a CCTBX object that is commonly returned as the result from CCTBX programs and methods. The advantage of the group_args object is that the contents can be accessed using dot syntax, ie:"
      ],
      "metadata": {
        "id": "TsYM2dkQZFl3"
      }
    },
    {
      "cell_type": "code",
      "source": [
        "comp = hierarchy.composition()\n",
        "n_atoms = comp.n_atoms\n",
        "print(n_atoms)"
      ],
      "metadata": {
        "id": "-qlHkUjJZVm2"
      },
      "execution_count": null,
      "outputs": []
    },
    {
      "cell_type": "markdown",
      "source": [
        "### Architecture of the hierarchy object\n",
        "\n",
        "```\n",
        "model(s)\n",
        "  id\n",
        "  chain(s)\n",
        "    id\n",
        "    residue_group(s)\n",
        "      resseq\n",
        "      icode\n",
        "      atom_group(s)\n",
        "        altloc,\n",
        "        resname\n",
        "          atom(s)\n",
        "            name\n",
        "            element\n",
        "            charge\n",
        "            xyz\n",
        "            occ\n",
        "            b\n",
        "```\n",
        " - The model, chain, and atom levels of the hierarchy object are probably immediately obvious to someone familiar with the content of model files (such as a PDB file). Note that that is no 'residue' level in the data structure. Instead, there are the two types residue_group and atom_group. They are related to alternative conformations.\n",
        "\n",
        " - If there are no alternative conformations in the model, all residue groups contain exactly one atom group, which contains all the atoms of a residue. A file with alternative conformations will lead to residue groups with multiple atom groups, one for each conformer. (Note: about a quarter of the files in the PDB database contain alternative conformations).\n",
        "\n",
        "\n",
        "### Looping over the hierarchy\n",
        "\n",
        "It is often useful to loop over the hierarchy to perform actions on certain components of the model."
      ],
      "metadata": {
        "id": "_3wy9bofcBpc"
      }
    },
    {
      "cell_type": "code",
      "source": [
        "for m in hierarchy.models():\n",
        "  for chain in m.chains():\n",
        "    for rg in chain.residue_groups():\n",
        "      for ag in rg.atom_groups():\n",
        "        for atom in ag.atoms():\n",
        "          # your code here\n",
        "          pass"
      ],
      "metadata": {
        "id": "76I9_EsQeg86"
      },
      "execution_count": null,
      "outputs": []
    },
    {
      "cell_type": "markdown",
      "source": [
        "Let's print something for every tyrosine residue in the model."
      ],
      "metadata": {
        "id": "TepSKLoDerAK"
      }
    },
    {
      "cell_type": "code",
      "source": [
        "for m in hierarchy.models():\n",
        "  for chain in m.chains():\n",
        "    for rg in chain.residue_groups():\n",
        "      for ag in rg.atom_groups():\n",
        "        if ag.resname == 'TYR':\n",
        "          print('TYR ', rg.resseq)"
      ],
      "metadata": {
        "id": "xdbD6e2teyb6"
      },
      "execution_count": null,
      "outputs": []
    },
    {
      "cell_type": "markdown",
      "source": [
        "There are three identical lines in the output for Tyrosine 85.\n",
        "\n",
        "Do you have any idea why that could be?\n",
        "\n",
        "In the following cell, try to play a bit with the elements of the hierarchy. You can use dir() to list the methods available for the components."
      ],
      "metadata": {
        "id": "kIJg1xwbfsVJ"
      }
    },
    {
      "cell_type": "code",
      "source": [
        "for m in hierarchy.models():\n",
        "  for chain in m.chains():\n",
        "    for rg in chain.residue_groups():\n",
        "      for ag in rg.atom_groups():\n",
        "        if ag.resname == 'TYR':\n",
        "          print('TYR ', rg.resseq)"
      ],
      "metadata": {
        "id": "lemlpbg3g04i"
      },
      "execution_count": null,
      "outputs": []
    },
    {
      "cell_type": "markdown",
      "source": [
        "Here is an example of what you could have come up with."
      ],
      "metadata": {
        "id": "MDNsvG8shO8J"
      }
    },
    {
      "cell_type": "code",
      "source": [
        "for m in hierarchy.models():\n",
        "  for chain in m.chains():\n",
        "    for rg in chain.residue_groups():\n",
        "      for ag in rg.atom_groups():\n",
        "        if ag.resname == 'TYR':\n",
        "          print('TYR ', rg.resseq, ag.altloc)"
      ],
      "metadata": {
        "id": "zT90v-KthSgE"
      },
      "execution_count": null,
      "outputs": []
    },
    {
      "cell_type": "markdown",
      "source": [
        "Tyrosine 85 has a double conformation which is split at the Cgamma atom. This is why there are three atom groups. One for the common part (altloc is blank), one for conformation A and one for conformation B."
      ],
      "metadata": {
        "id": "ODlDKYuThcJb"
      }
    },
    {
      "cell_type": "markdown",
      "source": [
        "## Histogram of B-factors\n",
        "\n",
        "Now let's make a histogram of isotropic B-factors.\n",
        "\n",
        "First, we extract the isotropic ADPs. There are several ways to do this. Here is the way using the model object."
      ],
      "metadata": {
        "id": "n9XzrUYKkoe0"
      }
    },
    {
      "cell_type": "code",
      "source": [
        "b_iso = model_1_obj.get_b_iso()\n",
        "print(b_iso)"
      ],
      "metadata": {
        "id": "aMqkQm-qkzh8"
      },
      "execution_count": null,
      "outputs": []
    },
    {
      "cell_type": "markdown",
      "source": [
        "As you can see, the B-factors are stored in a flex array, which are numerical arrays implemented in C++. They have a lot in common with  Numpy arrays.\n",
        "\n",
        "Note that we can create a Numpy array from a Flex array. This is useful for passing data on to other libraries based on Numpy."
      ],
      "metadata": {
        "id": "C-820buYk9Sz"
      }
    },
    {
      "cell_type": "code",
      "source": [
        "b_iso_np = b_iso.as_numpy_array()"
      ],
      "metadata": {
        "id": "cvUuW36DlWGJ"
      },
      "execution_count": null,
      "outputs": []
    },
    {
      "cell_type": "markdown",
      "source": [
        "Let's print some properties of this flex array of isotropic B-factors."
      ],
      "metadata": {
        "id": "0cbSs4jMmCbI"
      }
    },
    {
      "cell_type": "code",
      "source": [
        "print(b_iso.size())\n",
        "print(b_iso.min_max_mean().min)\n",
        "print(b_iso.min_max_mean().max)"
      ],
      "metadata": {
        "id": "4xDjQEVtmG5X"
      },
      "execution_count": null,
      "outputs": []
    },
    {
      "cell_type": "markdown",
      "source": [
        "Now let's plot a histogram of isotropic B-factors."
      ],
      "metadata": {
        "id": "-TpZyK2ql0qM"
      }
    },
    {
      "cell_type": "code",
      "source": [
        "import matplotlib.pyplot as plt\n",
        "_ = plt.hist(b_iso)\n",
        "plt.title(\"B-factor histogram\")\n",
        "plt.xlabel(\"B-factor\")\n",
        "plt.ylabel(\"Count\")"
      ],
      "metadata": {
        "id": "lWHBiPlolz3L"
      },
      "execution_count": null,
      "outputs": []
    },
    {
      "cell_type": "markdown",
      "source": [
        "Is this histogram really useful? It does not make any distinction between protein residues, water or other components of the model.\n",
        "Let's look at a B-factor histogram for water molecules only.\n",
        "We can easily do this with selections."
      ],
      "metadata": {
        "id": "emofd1BvnG-D"
      }
    },
    {
      "cell_type": "code",
      "source": [
        "b_iso_water = model_1_obj.select(model_1_obj.selection(\"water\")).get_b_iso()\n"
      ],
      "metadata": {
        "id": "Bisu54k1oiLA"
      },
      "execution_count": null,
      "outputs": []
    },
    {
      "cell_type": "markdown",
      "source": [
        "What is happening here? The inner statement (`model.selection(\"water\")`) parses the string selection, and turns it into a boolean flex array. Each value in the array relates to an atom in the model, and the value True/False corresponds to whether or not the atom was selected by the selection string."
      ],
      "metadata": {
        "id": "AoP1kNClokIn"
      }
    },
    {
      "cell_type": "code",
      "source": [
        "_ = plt.hist(b_iso_water)\n",
        "plt.title(\"B-factor histogram\")\n",
        "plt.xlabel(\"B-factor\")\n",
        "plt.ylabel(\"Count\")"
      ],
      "metadata": {
        "id": "BdMX-TeYnjwe"
      },
      "execution_count": null,
      "outputs": []
    },
    {
      "cell_type": "markdown",
      "source": [
        "According to this plot, the water molecules occupy the right tail region from our first histogram. This is mostly expected. Many water molecules are located in the outer regions of the protein and have typically higher B-factors than the protein residues."
      ],
      "metadata": {
        "id": "KdttOgwqo7fI"
      }
    },
    {
      "cell_type": "markdown",
      "source": [
        "## More on Selections\n",
        "\n",
        "In many cases it is desireable to process a subset of a model. Fortunately, the model object supports a variety of string selections. In many cases this can enable you to skip looping over the hierarchy.\n",
        "\n",
        "Let's go back to our example where we looped over the entire hierarchy to print out the residue number of Tyrosine residues. We could have done this in a slightly different way by using selections. Let's see how.\n",
        "\n",
        "First, let's figure out the selection string for the tyrosines."
      ],
      "metadata": {
        "id": "X7Gpmk7zrGyT"
      }
    },
    {
      "cell_type": "code",
      "source": [
        "# Try out creating a selection with model.selection() method\n",
        "# sel_tyr = model.selection('put_your_sel_string_here')"
      ],
      "metadata": {
        "id": "pJNRDp1Prqc1"
      },
      "execution_count": null,
      "outputs": []
    },
    {
      "cell_type": "markdown",
      "source": [
        "Options for string selections are documented on the Phenix Documentation:\n",
        "\n",
        "https://phenix-online.org/documentation/reference/atom_selections.html"
      ],
      "metadata": {
        "id": "ospNBvXcr9uz"
      }
    },
    {
      "cell_type": "code",
      "source": [
        "sel_tyr = model_1_obj.selection('resname TYR')"
      ],
      "metadata": {
        "id": "GYp-6g-3r-M4"
      },
      "execution_count": null,
      "outputs": []
    },
    {
      "cell_type": "markdown",
      "source": [
        "What is sel_tyr? It is a boolean flex array. It has as many entries as the number of atoms. One can imagine the array like a spreadsheet, each row representing one atom in the model (the order is not necessarily the same as in the input file!). For some atoms, i.e. those that are in a tyrosine residue, the value is True, for all other atoms, the value is False."
      ],
      "metadata": {
        "id": "oTEmdxXxsM9B"
      }
    },
    {
      "cell_type": "code",
      "source": [
        "# type\n",
        "print(type(sel_tyr))\n",
        "# size\n",
        "print(sel_tyr.size())\n",
        "# how many \"true\" values\n",
        "print(sel_tyr.count(True))"
      ],
      "metadata": {
        "id": "IfJ6K6CXs5Kj"
      },
      "execution_count": null,
      "outputs": []
    },
    {
      "cell_type": "markdown",
      "source": [
        "Now we know that 43 atoms are part of tyrosines. We don't know yet how many tyrosine residues are in the model, though.\n",
        "\n",
        "Let's get a subset of the hierarchy that only contains tyr residues."
      ],
      "metadata": {
        "id": "0c5AnDfitc0t"
      }
    },
    {
      "cell_type": "code",
      "source": [
        "hierarchy_tyr = model_1_obj.select(sel_tyr).get_hierarchy()"
      ],
      "metadata": {
        "id": "vEk5G8VBvYsb"
      },
      "execution_count": null,
      "outputs": []
    },
    {
      "cell_type": "markdown",
      "source": [
        "Now we can loop over the residue groups of this smaller hierarchy and we don't have to insert the if-statement in the loop."
      ],
      "metadata": {
        "id": "KWAOJrmUvZJS"
      }
    },
    {
      "cell_type": "code",
      "source": [
        "\n",
        "for rg in hierarchy_tyr.residue_groups():\n",
        "  for ag in rg.atom_groups():\n",
        "    print(ag.resname, rg.resseq, ag.altloc)"
      ],
      "metadata": {
        "id": "RxuT-qZduyyK"
      },
      "execution_count": null,
      "outputs": []
    },
    {
      "cell_type": "markdown",
      "source": [
        "Using selections, make a B-factor histogram for a subset of the input model. You could select residue types, atom types, certain elements, etc."
      ],
      "metadata": {
        "id": "tt4u1r43xUaK"
      }
    },
    {
      "cell_type": "code",
      "source": [
        "# example for water, replace the string selection with your example\n",
        "my_b_iso = model_1_obj.select(model_1_obj.selection(\"water\")).get_b_iso()\n",
        "_ = plt.hist(my_b_iso)\n",
        "plt.title(\"B-factor histogram\")\n",
        "plt.xlabel(\"B-factor\")\n",
        "plt.ylabel(\"Count\")"
      ],
      "metadata": {
        "id": "pNlTIDwixU1J"
      },
      "execution_count": null,
      "outputs": []
    },
    {
      "cell_type": "markdown",
      "source": [
        "# Working with diffraction data\n",
        "\n",
        "## Miller Arrays\n",
        "\n",
        "Miller arrays are containers for experimental (or calculated data). A miller array contains the crystal symmetry, an array of Miller indices (h,k,l), a boolean flag indicating anomalous pairs and a flex array containing data (X-ray amplitudes or intensities, experimental sigmas, etc.).\n",
        "\n",
        "Let's get the miller arrays for our example file (1ABA.mtz). We have read this file earlier with the DataManager."
      ],
      "metadata": {
        "id": "4GyZnmh6ybcG"
      }
    },
    {
      "cell_type": "code",
      "source": [
        "miller_arrays = dm.get_miller_arrays(filename='1ABA.mtz')"
      ],
      "metadata": {
        "id": "fMNKP3dqzAnA"
      },
      "execution_count": null,
      "outputs": []
    },
    {
      "cell_type": "markdown",
      "source": [
        "Let's see what arrays are in the mtz file."
      ],
      "metadata": {
        "id": "NdJpb5x-zUhu"
      }
    },
    {
      "cell_type": "code",
      "source": [
        "labels=dm.get_miller_array_labels()\n",
        "for l in labels: print(l)"
      ],
      "metadata": {
        "id": "jCOpcOQZzU2u"
      },
      "execution_count": null,
      "outputs": []
    },
    {
      "cell_type": "markdown",
      "source": [
        "Let's get separate miller arrays for each one, so we can operate on them."
      ],
      "metadata": {
        "id": "kFjGxUma2WBI"
      }
    },
    {
      "cell_type": "code",
      "source": [
        "R_free_flags, Fobs = dm.get_miller_arrays(labels=['R-free-flags', 'FOBS,SIGFOBS'])\n"
      ],
      "metadata": {
        "id": "ZdlGgZmK1MJV"
      },
      "execution_count": null,
      "outputs": []
    },
    {
      "cell_type": "markdown",
      "source": [
        "Let's print some information of the Fobs array."
      ],
      "metadata": {
        "id": "vRkMtvSx2dvm"
      }
    },
    {
      "cell_type": "code",
      "source": [
        "print(\"Resolution limits:\", Fobs.d_max_min())\n",
        "print(\"Space group info:\",Fobs.space_group_info())\n",
        "print(\"Completeness:\",Fobs.completeness())\n",
        "print(\"Size:\",Fobs.size())"
      ],
      "metadata": {
        "id": "_HmtaRll2pPO"
      },
      "execution_count": null,
      "outputs": []
    },
    {
      "cell_type": "markdown",
      "source": [
        "Let's have a closer look at the R-free array."
      ],
      "metadata": {
        "id": "5eauAaGq0RnA"
      }
    },
    {
      "cell_type": "code",
      "source": [
        "print(\"Resolution limits:\", R_free_flags.d_max_min())\n",
        "print(\"Space group info:\",R_free_flags.space_group_info())\n",
        "print(\"Completeness:\",R_free_flags.completeness())\n",
        "print(\"Size:\",R_free_flags.size())"
      ],
      "metadata": {
        "id": "JhevpMg13K5S"
      },
      "execution_count": null,
      "outputs": []
    },
    {
      "cell_type": "markdown",
      "source": [
        "So far, all looks good. Same space group, same resolution, completeness and size.\n",
        "\n",
        "Let's have a look at the values."
      ],
      "metadata": {
        "id": "hWMT9CqT3g6m"
      }
    },
    {
      "cell_type": "code",
      "source": [
        "print(R_free_flags.data()[0])\n",
        "print(R_free_flags.data().all_eq(1))"
      ],
      "metadata": {
        "id": "3kXtcbYh5PXr"
      },
      "execution_count": null,
      "outputs": []
    },
    {
      "cell_type": "markdown",
      "source": [
        "It looks like all values of the R-free-flag array are equal to 1. So it actually does not allow selecting any reflections for calculating R-free.\n",
        "\n",
        "Let's make a new R-free array, so we can use it to calculate R-factors.\n",
        "\n",
        "The DataManager has a function for constructing the Fmodel object where the R-free flags will be used to calculating R-values. Some basic checks for valid R-free flags will be applied and the check we did above is already incorporated. When you try to get the Fmodel object, there will be an error about not finding valid R-free flags. We will use a new DataManager object to ensure that the cell below will always fail."
      ],
      "metadata": {
        "id": "JwujjAA16TIc"
      }
    },
    {
      "cell_type": "code",
      "source": [
        "new_dm = DataManager()\n",
        "new_dm.process_model_file('1ABA.pdb')\n",
        "new_dm.process_miller_array_file('1ABA.mtz')\n",
        "fmodel = new_dm.get_fmodel(scattering_table = 'x_ray')"
      ],
      "metadata": {
        "id": "pezWjK2hutkZ"
      },
      "execution_count": null,
      "outputs": []
    },
    {
      "cell_type": "markdown",
      "source": [
        "We can modify the Fmodel parameters to have the DataManager generate a new set of R-free flags. We will use the original DataManager object for this step."
      ],
      "metadata": {
        "id": "NS7BXul3u3ev"
      }
    },
    {
      "cell_type": "code",
      "source": [
        "fmodel_params = dm.get_fmodel_params()\n",
        "fmodel_params.xray_data.r_free_flags.generate = True\n",
        "dm.set_fmodel_params(fmodel_params)\n",
        "fmodel = dm.get_fmodel(scattering_table = 'x_ray')\n",
        "_ = fmodel.update_all_scales()"
      ],
      "metadata": {
        "id": "R0uTmGLrBoGc"
      },
      "execution_count": null,
      "outputs": []
    },
    {
      "cell_type": "markdown",
      "source": [
        "Now we will print out the R-work and R-free values. These values will vary depending on the specific set of reflections that are chosen to be the R-free set. You can test this by running the previous cell again and then re-calculating the R-values.\n"
      ],
      "metadata": {
        "id": "vgHVu3Xi0Xl4"
      }
    },
    {
      "cell_type": "code",
      "source": [
        "print(\"R-work:\",fmodel.r_work())\n",
        "print(\"R-free:\",fmodel.r_free())"
      ],
      "metadata": {
        "id": "_7wOGz02-wr6"
      },
      "execution_count": null,
      "outputs": []
    },
    {
      "cell_type": "markdown",
      "source": [
        "## Writing your own command-line tools\n",
        "To simplify the writing of CCTBX tools, we have a program template parent class (`ProgramTemplate`) and a standard command-line parser (`CCTBXParser`) that will handle file and parameter parsing. Developers can then focus on populating the `validate` and `run` functions of the class for working with the data. The `validate` function is for checking if the inputs are sensible and the `run` function is for performing the desired calculations, respectively.\n",
        "\n",
        "Inside your program, the parser will provide a DataManager object already loaded with the files provided as arguments. This object is accssible with `self.data_manager`. The parameters of the program are accessible with `self.params`. Any non-default parameters will be availabe in that object.\n",
        "\n",
        "As an exercise, you can try putting some of the code snippets from above into the `run` function."
      ],
      "metadata": {
        "id": "Uax6PXPQqem2"
      }
    },
    {
      "cell_type": "code",
      "source": [
        "from libtbx.program_template import ProgramTemplate\n",
        "from libtbx.utils import Sorry\n",
        "\n",
        "class TestProgram(ProgramTemplate):\n",
        "  program_name = \"new_program\"\n",
        "  description = \"\"\"\n",
        "This is a demo of my new program\n",
        "\"\"\"\n",
        "  master_phil_str = \"\"\"\n",
        "general_param = None\n",
        "  .type = str\n",
        "  .help = A general parameter that is a string\n",
        "bool_param = None\n",
        "  .type = bool\n",
        "  .help = Something that is True or False\n",
        "parameter_section {\n",
        "  specific_param_1 = 0\n",
        "    .type = int\n",
        "    .help = This is an example of a numerical parameter in a PHIL section\n",
        "  specific_param_2 = 3.14\n",
        "    .type = float\n",
        "    .help = This is another example\n",
        "}\n",
        "\"\"\"\n",
        "  def validate(self):\n",
        "    if self.params.parameter_section.specific_param_1 < 0:\n",
        "      raise Sorry(\"The specific_param_1 must be 0 or greater\")\n",
        "    self.data_manager.has_models(raise_sorry=True)\n",
        "\n",
        "  def run(self):\n",
        "    # just add some numbers\n",
        "    self.results = self.params.parameter_section.specific_param_1 + self.params.parameter_section.specific_param_2\n",
        "    self._print(self.results)\n",
        "    self._print(self.data_manager.get_model_names())\n",
        "\n",
        "  def get_results(self):\n",
        "    return self.results"
      ],
      "metadata": {
        "id": "grsKrY_6hvFC"
      },
      "execution_count": null,
      "outputs": []
    },
    {
      "cell_type": "markdown",
      "source": [
        "The Python script for running your program will be some boilerplate code that imports your subclass of the `ProgramTemplate` along with the `run_program` function for running your program.\n"
      ],
      "metadata": {
        "id": "Nnrj3IFyvUZx"
      }
    },
    {
      "cell_type": "code",
      "source": [
        "from iotbx.cli_parser import run_program\n",
        "# Import your ProgramTemplate class\n",
        "# e.g. from <module> import TestProgram\n",
        "\n",
        "if __name__ == '__main__':\n",
        "  # In practice, the only line necessary is\n",
        "  # run_program(program_class=TestProgram)\n",
        "  # but for this notebook, we provide the \"args\" argument which are the command line arguments to the program\n",
        "  #run_program(program_class=TestProgram, args=[])\n",
        "  run_program(program_class=TestProgram, args=['bool_param=False', '1ABA.pdb','param_1=10'])"
      ],
      "metadata": {
        "id": "PPwl12CAHnwp"
      },
      "execution_count": null,
      "outputs": []
    },
    {
      "cell_type": "code",
      "source": [],
      "metadata": {
        "id": "RnlRBkojIAKI"
      },
      "execution_count": null,
      "outputs": []
    }
  ]
}