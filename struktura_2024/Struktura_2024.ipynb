{
  "nbformat": 4,
  "nbformat_minor": 0,
  "metadata": {
    "colab": {
      "provenance": [],
      "include_colab_link": true
    },
    "kernelspec": {
      "name": "python3",
      "display_name": "Python 3"
    },
    "language_info": {
      "name": "python"
    }
  },
  "cells": [
    {
      "cell_type": "markdown",
      "metadata": {
        "id": "view-in-github",
        "colab_type": "text"
      },
      "source": [
        "<a href=\"https://colab.research.google.com/github/cctbx/cctbx_tutorials/blob/main/struktura_2024/Struktura_2024.ipynb\" target=\"_parent\"><img src=\"https://colab.research.google.com/assets/colab-badge.svg\" alt=\"Open In Colab\"/></a>"
      ]
    },
    {
      "cell_type": "markdown",
      "source": [
        "# **Introduction to CCTBX**\n",
        "\n",
        "The CCTBX project (computational crystallography toolbox) initially started as a library containing algorithms for the handling of unit cells, space groups, and atomic scatterers. Since then it has grown into a large project to support a variety of structural biology workflows, including x-ray and neutron crystallography, cryo-electron microscopy, and x-ray free electron lasers.\n",
        "\n",
        "The CCTBX library is written in Python, with many of the lower level algorithms accelerated using C++ via the Boost Python bindings.\n",
        "\n",
        "The principal high-level cctbx objects are:\n",
        "\n",
        "*   Data Manager: Read and write files and keep track of them\n",
        "*   Model Manager: A molecular model or models and restraints that go with them\n",
        "*   Map Manager: A 3D map or maps and information about gridding and map symmetry\n",
        "*   Map Model Manager: One or more related maps and models as a group\n",
        "*   F-Model Manager: Combines a model and a related Miller array (map coefficeints, or other data for each index of a map)\n",
        "\n",
        "These high-level cctbx objects are composed of lower-level objects that implement various concepts in macromolecular crystallography, which are in turn composed of CCTBX flex arrays for efficient computation of numerical data. Finally, user defined parameters are managed and shared betwen objects using the CCTBX Phil module.\n",
        "\n",
        "The examples presented here aim to illustrate working with the core CCTBX data types using example data. Much of the content is adapted from the official CCTBX documentation: http://cci.lbl.gov/docs/cctbx/"
      ],
      "metadata": {
        "id": "_h9_proIGAfn"
      }
    },
    {
      "cell_type": "markdown",
      "source": [
        "# **Setting up cctbx**\n",
        "First we need to set up the cctbx in this colab. Execute the following cells to install condacolab.\n",
        "\n"
      ],
      "metadata": {
        "id": "NK5osWqIHjPy"
      }
    },
    {
      "cell_type": "code",
      "execution_count": 44,
      "metadata": {
        "id": "ft3z-TiIKKmM",
        "outputId": "585d668c-44c8-47eb-dc92-9bebe5062866",
        "colab": {
          "base_uri": "https://localhost:8080/"
        },
        "cellView": "form"
      },
      "outputs": [
        {
          "output_type": "stream",
          "name": "stdout",
          "text": [
            "✨🍰✨ Everything looks OK!\n"
          ]
        }
      ],
      "source": [
        "#@title Install condacolab so that conda packages can be used\n",
        "\n",
        "# Install condacolab so that conda packages can be used\n",
        "# https://github.com/conda-incubator/condacolab\n",
        "#\n",
        "# Important notes\n",
        "# https://github.com/conda-incubator/condacolab#shortcomings\n",
        "# 1) The kernel will automatically be restarted and show an error message about\n",
        "#    a crash (\"Your session crashed for an unknown reason\").\n",
        "#    The error can be ignored.\n",
        "# 2) Only the \"base\" environment is available, so do not create a separate\n",
        "#    environment for packages.\n",
        "!pip install -q condacolab\n",
        "import condacolab\n",
        "condacolab.install()"
      ]
    },
    {
      "cell_type": "code",
      "source": [
        "#@title Install cctbx-base\n",
        "# Wait until the error message appears near the bottom of the notebook before\n",
        "# proceeding.\n",
        "!conda install -q cctbx-base\n",
        "\n",
        "# conda installs ${CONDA_PREFIX}/share/cctbx into /usr/local instead of /usr\n",
        "# Make a copy to avoid errors\n",
        "!cp -af /usr/local/share/cctbx /usr/share/\n",
        "\n",
        "# sys.path does not have some directories with libraries, so add them here\n",
        "import sys\n",
        "py_ver = f'{sys.version_info.major}.{sys.version_info.minor}'\n",
        "for d in [f'/usr/local/lib/python{py_ver}/lib-dynload', '/usr/local/lib']:\n",
        "  if d not in sys.path:\n",
        "    sys.path.insert(0, d)\n",
        "\n",
        "# final check\n",
        "import os\n",
        "if os.path.isdir('/usr/local/share/cctbx') \\\n",
        "  and f'/usr/local/lib/python{py_ver}/lib-dynload' in sys.path \\\n",
        "  and '/usr/local/lib' in sys.path:\n",
        "  print('Finished installing cctbx-base')\n",
        "else:\n",
        "  raise RuntimeError('There was an error fixing up the installation of cctbx-base')\n"
      ],
      "metadata": {
        "id": "TFtfP--2Kdnn",
        "outputId": "4afcf16f-7894-4d5d-e692-e0f7a4714e7c",
        "colab": {
          "base_uri": "https://localhost:8080/"
        },
        "collapsed": true,
        "cellView": "form"
      },
      "execution_count": 45,
      "outputs": [
        {
          "output_type": "stream",
          "name": "stdout",
          "text": [
            "Channels:\n",
            " - conda-forge\n",
            "Platform: linux-64\n",
            "Collecting package metadata (repodata.json): ...working... done\n",
            "Solving environment: ...working... done\n",
            "\n",
            "# All requested packages already installed.\n",
            "\n",
            "Finished installing cctbx-base\n"
          ]
        }
      ]
    },
    {
      "cell_type": "markdown",
      "source": [
        "# **Test installation**\n",
        "\n",
        "Let's check if everything worked by running some cctbx code.\n",
        "\n",
        "We'll create 100 random numbers in a flex array. Then we print some properties of this array, i.e. the smallest value and the length of the array."
      ],
      "metadata": {
        "id": "AArepWKhJ587"
      }
    },
    {
      "cell_type": "code",
      "source": [
        "from scitbx.array_family import flex\n",
        "a = flex.random_double(100)\n",
        "print('Smallest value among the 100 values: ', flex.min(a))\n",
        "print('Size of the array: ', a.size())"
      ],
      "metadata": {
        "colab": {
          "base_uri": "https://localhost:8080/"
        },
        "id": "uUYSkoD-Mt1Y",
        "outputId": "146b5152-6ff3-474e-ffe8-232f30fd20d8"
      },
      "execution_count": 46,
      "outputs": [
        {
          "output_type": "stream",
          "name": "stdout",
          "text": [
            "Smallest value among the 100 values:  0.0007041158763142485\n",
            "Size of the array:  100\n"
          ]
        }
      ]
    },
    {
      "cell_type": "markdown",
      "source": [
        "\n",
        "Thanks to Georg Mlynek for this example!\n"
      ],
      "metadata": {
        "id": "lf7aIciaM5OW"
      }
    },
    {
      "cell_type": "code",
      "source": [
        "from cctbx import crystal, miller\n",
        "\n",
        "crystal_symmetry = crystal.symmetry((10, 20, 30, 90, 90, 90), 'P212121')\n",
        "ms = miller.build_set(\n",
        "    crystal_symmetry=crystal_symmetry,\n",
        "    anomalous_flag=True,\n",
        "    d_min=2,\n",
        "    d_max=10\n",
        ")\n",
        "crystal_symmetry.show_summary()\n",
        "print('Resolution range', ms.d_max_min())\n",
        "print('Number of reflections', ms.indices().size())"
      ],
      "metadata": {
        "id": "jug2vYAgLpQF",
        "outputId": "fd1d651d-4150-4a2d-ebb6-d0ae2bd8e046",
        "colab": {
          "base_uri": "https://localhost:8080/"
        }
      },
      "execution_count": null,
      "outputs": [
        {
          "output_type": "stream",
          "name": "stdout",
          "text": [
            "Unit cell: (10, 20, 30, 90, 90, 90)\n",
            "Space group: P 21 21 21 (No. 19)\n",
            "Resolution range (10.0, 2.0)\n",
            "Number of reflections 762\n"
          ]
        }
      ]
    },
    {
      "cell_type": "markdown",
      "source": [
        "# **File IO with the DataManager**\n",
        "\n",
        "When you want to perform some actions on data or a model, you have to start with reading the file. Once the action is done, you probably want to write the files.\n",
        "\n",
        "To do this conveniently, you can use the cctbx DataManager. The DataManager lets you read and write files describing atomic models, restraints, reflection data files, symmetry files, sequence files, and MRC/CCP4 format map files.\n",
        "\n",
        "First, download an example file from the PDB (model 1aba):"
      ],
      "metadata": {
        "id": "lWAxkuq1OBpq"
      }
    },
    {
      "cell_type": "code",
      "source": [
        "!wget https://files.rcsb.org/view/1ABA.pdb"
      ],
      "metadata": {
        "collapsed": true,
        "colab": {
          "base_uri": "https://localhost:8080/"
        },
        "id": "rDawfKTQsTKN",
        "outputId": "170688ed-c24b-49a1-e219-b84161fab138"
      },
      "execution_count": 47,
      "outputs": [
        {
          "output_type": "stream",
          "name": "stdout",
          "text": [
            "--2024-09-12 17:45:48--  https://files.rcsb.org/view/1ABA.pdb\n",
            "Resolving files.rcsb.org (files.rcsb.org)... 128.6.159.245\n",
            "Connecting to files.rcsb.org (files.rcsb.org)|128.6.159.245|:443... connected.\n",
            "HTTP request sent, awaiting response... 200 OK\n",
            "Length: unspecified [text/plain]\n",
            "Saving to: ‘1ABA.pdb.1’\n",
            "\n",
            "1ABA.pdb.1              [  <=>               ]  95.71K   407KB/s    in 0.2s    \n",
            "\n",
            "2024-09-12 17:45:48 (407 KB/s) - ‘1ABA.pdb.1’ saved [98010]\n",
            "\n"
          ]
        }
      ]
    },
    {
      "cell_type": "markdown",
      "source": [
        "We can also run linux shell commands from Colab cells, either using the %shell syntax, or the ! prefix for a single line. Lets check if we got our example files."
      ],
      "metadata": {
        "id": "plT366V65Grq"
      }
    },
    {
      "cell_type": "code",
      "source": [
        "! ls"
      ],
      "metadata": {
        "id": "vntWaRBD5HVl",
        "outputId": "24b0da61-6ef3-4816-da24-7f065494ec47",
        "colab": {
          "base_uri": "https://localhost:8080/"
        }
      },
      "execution_count": 48,
      "outputs": [
        {
          "output_type": "stream",
          "name": "stdout",
          "text": [
            "1aba_model.cif\t1ABA.pdb    1ABA-sf.cif     condacolab_install.log\n",
            "1ABA.mtz\t1ABA.pdb.1  1ABA-sf.cif.gz  sample_data\n"
          ]
        }
      ]
    },
    {
      "cell_type": "markdown",
      "source": [
        "Then let's read in this model file with the DataManager (this works for mmcif files, too!)."
      ],
      "metadata": {
        "id": "pUg_ijOXs2-m"
      }
    },
    {
      "cell_type": "code",
      "source": [
        "from iotbx.data_manager import DataManager\n",
        "dm = DataManager()\n",
        "model_1 = \"1ABA.pdb\"\n",
        "dm.process_model_file(model_1)"
      ],
      "metadata": {
        "colab": {
          "base_uri": "https://localhost:8080/",
          "height": 35
        },
        "id": "NfzbeBrMsWJ0",
        "outputId": "604bc6a0-f952-442e-cd0e-ed4a477070f3"
      },
      "execution_count": 54,
      "outputs": [
        {
          "output_type": "execute_result",
          "data": {
            "text/plain": [
              "'1ABA.pdb'"
            ],
            "application/vnd.google.colaboratory.intrinsic+json": {
              "type": "string"
            }
          },
          "metadata": {},
          "execution_count": 54
        }
      ]
    },
    {
      "cell_type": "markdown",
      "source": [
        "The data manager has now read our file. If desired, a single DataManager instance can read many files and store them simultaneously. To access objects from a specific file, we can request it using the filename as the key. Here we create a model object (we'll see more on that later) for structure 1ABA.\n"
      ],
      "metadata": {
        "id": "6vG9kG38tYEB"
      }
    },
    {
      "cell_type": "code",
      "source": [
        "model_1_obj = dm.get_model(filename=model_1)"
      ],
      "metadata": {
        "id": "7dlvOI-euF6R"
      },
      "execution_count": 58,
      "outputs": []
    },
    {
      "cell_type": "markdown",
      "source": [
        "To save a model to the disk, we also use the DataManager. One of its many advantages is the ability to handle multiple file formats transparently."
      ],
      "metadata": {
        "id": "1HI6JA7Pxt-G"
      }
    },
    {
      "cell_type": "code",
      "source": [
        "filename_cif = \"1aba_model.cif\"\n",
        "dm.write_model_file(model_1_obj, filename=filename_cif, format=\"cif\", overwrite=True)"
      ],
      "metadata": {
        "id": "ebkbpTIl4mQB",
        "outputId": "c147914a-dc8c-4b74-fc96-599f2bbd768b",
        "colab": {
          "base_uri": "https://localhost:8080/",
          "height": 35
        }
      },
      "execution_count": 60,
      "outputs": [
        {
          "output_type": "execute_result",
          "data": {
            "text/plain": [
              "'1aba_model.cif'"
            ],
            "application/vnd.google.colaboratory.intrinsic+json": {
              "type": "string"
            }
          },
          "metadata": {},
          "execution_count": 60
        }
      ]
    },
    {
      "cell_type": "markdown",
      "source": [
        "Lets check to make sure it worked. The following command shows the first 20 lines of the 1ABA mmcif file.\n"
      ],
      "metadata": {
        "id": "Zz7fAYgc40J6"
      }
    },
    {
      "cell_type": "code",
      "source": [
        "! head 1aba_model.cif -n 20"
      ],
      "metadata": {
        "id": "K-YgbarU405J",
        "outputId": "121322ca-4769-40a8-db98-8814667eccd6",
        "colab": {
          "base_uri": "https://localhost:8080/"
        }
      },
      "execution_count": 61,
      "outputs": [
        {
          "output_type": "stream",
          "name": "stdout",
          "text": [
            "data_default\n",
            "_cell.length_a                    30.200\n",
            "_cell.length_b                    47.800\n",
            "_cell.length_c                    61.300\n",
            "_cell.angle_alpha                 90.000\n",
            "_cell.angle_beta                  90.000\n",
            "_cell.angle_gamma                 90.000\n",
            "_cell.volume                      88490.228\n",
            "_space_group.crystal_system       orthorhombic\n",
            "_space_group.IT_number            19\n",
            "_space_group.name_H-M_alt         'P 21 21 21'\n",
            "_space_group.name_Hall            ' P 2ac 2ab'\n",
            "_symmetry.space_group_name_H-M    'P 21 21 21'\n",
            "_symmetry.space_group_name_Hall   ' P 2ac 2ab'\n",
            "_symmetry.Int_Tables_number       19\n",
            "loop_\n",
            "  _space_group_symop.id\n",
            "  _space_group_symop.operation_xyz\n",
            "   1 x,y,z\n",
            "   2 x+1/2,-y+1/2,-z\n"
          ]
        }
      ]
    },
    {
      "cell_type": "markdown",
      "source": [
        "The DataManager can handle data files, too. Let's get the reflection file for model 1ABA."
      ],
      "metadata": {
        "id": "uqiaMYe45lxL"
      }
    },
    {
      "cell_type": "code",
      "source": [
        "!rm 1ABA-sf.cif 1ABA-sf.cif.gz 1ABA.mtz\n",
        "!wget https://files.rcsb.org/download/1ABA-sf.cif.gz\n",
        "!gunzip 1ABA-sf.cif.gz\n",
        "!ls"
      ],
      "metadata": {
        "collapsed": true,
        "id": "F8hcuqD55_BO",
        "outputId": "0ab2abf5-d1eb-49e3-db71-be52c2fac708",
        "colab": {
          "base_uri": "https://localhost:8080/"
        }
      },
      "execution_count": 66,
      "outputs": [
        {
          "output_type": "stream",
          "name": "stdout",
          "text": [
            "rm: cannot remove '1ABA-sf.cif.gz': No such file or directory\n",
            "--2024-09-12 17:51:04--  https://files.rcsb.org/download/1ABA-sf.cif.gz\n",
            "Resolving files.rcsb.org (files.rcsb.org)... 128.6.159.100\n",
            "Connecting to files.rcsb.org (files.rcsb.org)|128.6.159.100|:443... connected.\n",
            "HTTP request sent, awaiting response... 200 OK\n",
            "Length: 100519 (98K) [application/octet-stream]\n",
            "Saving to: ‘1ABA-sf.cif.gz’\n",
            "\n",
            "1ABA-sf.cif.gz      100%[===================>]  98.16K   417KB/s    in 0.2s    \n",
            "\n",
            "2024-09-12 17:51:04 (417 KB/s) - ‘1ABA-sf.cif.gz’ saved [100519/100519]\n",
            "\n",
            "1aba_model.cif\t1ABA.pdb  1ABA-sf.cif  condacolab_install.log  sample_data\n"
          ]
        }
      ]
    },
    {
      "cell_type": "markdown",
      "source": [
        "You can convert the structure factor cif file to mtz with the following command. You could also do it on a lower level (operating with miller arrays - we'll cover these later), but this way may be the easiest."
      ],
      "metadata": {
        "id": "40MYSRTx7Vik"
      }
    },
    {
      "cell_type": "code",
      "source": [
        "from mmtbx.command_line import cif_as_mtz\n",
        "cif_as_mtz.run(args=[\n",
        "    \"1ABA-sf.cif\",\n",
        "    \"--symmetry=1ABA.pdb\",\n",
        "    \"--merge\",\n",
        "    \"--output_file_name=1ABA.mtz\"])"
      ],
      "metadata": {
        "collapsed": true,
        "id": "dfdr8xS18J4I",
        "outputId": "01b47734-fa1d-4c61-9a25-4672cf15fe05",
        "colab": {
          "base_uri": "https://localhost:8080/"
        }
      },
      "execution_count": 67,
      "outputs": [
        {
          "output_type": "stream",
          "name": "stdout",
          "text": [
            "Can't determine output label for r1abasf,_refln.crystal_id - skipping.\n",
            "Can't determine output label for r1abasf,_refln.wavelength_id - skipping.\n",
            "Can't determine output label for r1abasf,_refln.scale_group_code - skipping.\n",
            "Warning: merging non-unique data\n",
            "Warning: merging non-unique data\n"
          ]
        }
      ]
    },
    {
      "cell_type": "markdown",
      "source": [
        "Let's check if the file has been created."
      ],
      "metadata": {
        "id": "Z0a0gHbB9HK_"
      }
    },
    {
      "cell_type": "code",
      "source": [
        "!ls"
      ],
      "metadata": {
        "id": "0-gfA64y9FYF",
        "outputId": "eff9e112-74b4-45f4-957e-0895633570ab",
        "colab": {
          "base_uri": "https://localhost:8080/"
        }
      },
      "execution_count": 68,
      "outputs": [
        {
          "output_type": "stream",
          "name": "stdout",
          "text": [
            "1aba_model.cif\t1ABA.mtz  1ABA.pdb  1ABA-sf.cif  condacolab_install.log  sample_data\n"
          ]
        }
      ]
    },
    {
      "cell_type": "markdown",
      "source": [
        "Now let's read this file with the DataManager."
      ],
      "metadata": {
        "id": "wxArHSfz9Rb5"
      }
    },
    {
      "cell_type": "code",
      "source": [
        "dm.process_miller_array_file('1ABA.mtz')"
      ],
      "metadata": {
        "id": "sN5oveWD9UeB",
        "outputId": "bf4469dc-6556-4928-cf5f-484d60c06690",
        "colab": {
          "base_uri": "https://localhost:8080/",
          "height": 35
        }
      },
      "execution_count": 69,
      "outputs": [
        {
          "output_type": "execute_result",
          "data": {
            "text/plain": [
              "'1ABA.mtz'"
            ],
            "application/vnd.google.colaboratory.intrinsic+json": {
              "type": "string"
            }
          },
          "metadata": {},
          "execution_count": 69
        }
      ]
    },
    {
      "cell_type": "markdown",
      "source": [
        "Now your DataManager has processed the model and the data for structure 1ABA. We are ready to create cctbx objects and do something with them. Let's start with the model object."
      ],
      "metadata": {
        "id": "WOM5XkcdFZ_p"
      }
    },
    {
      "cell_type": "markdown",
      "source": [
        "# **The cctbx model object**\n",
        "\n",
        " The cctbx model object stores all information related to a molecular model. This includes the molecular composition, space group and symmetry information, information about stereochemical restraints, and any metadata that was available in the input file.\n",
        "\n",
        " This is how you get the model object from the DataManager.\n",
        "\n"
      ],
      "metadata": {
        "id": "Lt2R530lFjTL"
      }
    },
    {
      "cell_type": "code",
      "source": [
        "model_1_ob = dm.get_model(filename=model_1)"
      ],
      "metadata": {
        "id": "i9-6By6dGEZR"
      },
      "execution_count": 70,
      "outputs": []
    },
    {
      "cell_type": "markdown",
      "source": [
        " The model object has a lot of methods, you can list them with the the `dir` function."
      ],
      "metadata": {
        "id": "ZodZs8qJGFHY"
      }
    },
    {
      "cell_type": "code",
      "source": [
        "print(dir(model_1_ob))"
      ],
      "metadata": {
        "id": "aWE0XkgwGXau",
        "outputId": "25c156df-f506-43eb-948c-4ad8f23b4f33",
        "colab": {
          "base_uri": "https://localhost:8080/"
        }
      },
      "execution_count": 71,
      "outputs": [
        {
          "output_type": "stream",
          "name": "stdout",
          "text": [
            "['__class__', '__delattr__', '__dict__', '__dir__', '__doc__', '__eq__', '__format__', '__ge__', '__getattribute__', '__getstate__', '__gt__', '__hash__', '__init__', '__init_subclass__', '__le__', '__lt__', '__module__', '__ne__', '__new__', '__reduce__', '__reduce_ex__', '__repr__', '__setattr__', '__setstate__', '__sizeof__', '__str__', '__subclasshook__', '__weakref__', '_all_monomer_mappings', '_anomalous_scatterer_groups', '_append_pdb_atoms', '_atom_selection_cache', '_biomt_expanded', '_biomt_mtrix_container_is_good', '_clash_guard_msg', '_crystal_symmetry', '_ener_lib', '_expand_symm_helper', '_figure_out_cs_to_output', '_figure_out_hierarchy_to_output', '_get_selection_manager', '_get_ss_annotations_for_output', '_has_hd', '_info', '_master_sel', '_model_input', '_model_number', '_mon_lib_srv', '_monomer_parameters', '_mtrix_expanded', '_ncs_groups', '_ncs_obj', '_neutralized', '_original_model_format', '_pdb_hierarchy', '_pdb_interpretation_params', '_processed', '_processed_pdb_file', '_rama_eval', '_restraint_objects', '_rotamer_eval', '_rotamer_id', '_sequence_validation', '_setup_restraints_manager', '_shift_back', '_shift_cart', '_site_symmetry_table', '_ss_annotation', '_ss_manager', '_stop_for_unknowns', '_sync_xrs_labels', '_ter_indices', '_unit_cell_crystal_symmetry', '_update_atom_selection_cache', '_update_has_hd', '_update_master_sel', '_xray_structure', 'aa_residues_with_bound_sidechains', 'add_crystal_symmetry_if_necessary', 'add_hydrogens', 'add_ias', 'add_remark', 'add_solvent', 'adopt_xray_structure', 'adp_statistics', 'altlocs_present', 'anomalous_scatterer_groups_as_pdb', 'append_single_atoms', 'apply_selection_string', 'as_list_of_residue_names', 'as_map_model_manager', 'as_model_manager_each_chain', 'as_pdb_or_mmcif_string', 'as_sequence', 'atom_counts', 'attached_methods', 'biomt_expanded', 'biomt_operators', 'can_be_output_as_pdb', 'can_be_unique_with_biomt', 'cartesian_NCS_as_pdb', 'cartesian_NCS_present', 'chain_ids', 'chain_type', 'chain_types', 'chains', 'check_consistency', 'composition', 'contains_dna', 'contains_nucleic_acid', 'contains_protein', 'contains_rna', 'convert_atom', 'convert_to_isotropic', 'crystal_symmetry', 'de_deuterate', 'deep_copy', 'determine_tls_groups', 'distances_symmetric', 'energies_adp', 'exchangable_hd_groups', 'expand_with_BIOMT_records', 'expand_with_MTRIX_records', 'extend_xh_bonds', 'extract_restraints_as_cif_blocks', 'extract_water_residue_groups', 'first_chain_id', 'first_resseq_as_int', 'flip_nqh', 'format_fasta', 'from_sites_cart', 'fully_deuterated', 'geometry_statistics', 'get_anomalous_scatterer_groups', 'get_atom_selection_cache', 'get_atoms', 'get_b_iso', 'get_bonds_rmsd', 'get_cartesian_NCS_manager', 'get_current_pdb_interpretation_params', 'get_default_pdb_interpretation_params', 'get_default_pdb_interpretation_scope', 'get_ener_lib', 'get_hd_selection', 'get_header_r_free_flags_md5_hexdigest', 'get_hierarchy', 'get_ias_selection', 'get_master_hierarchy', 'get_master_selection', 'get_methods', 'get_model_input', 'get_model_statistics_info', 'get_mon_lib_srv', 'get_monomer_parameters', 'get_n_excessive_site_distances_cartesian_ncs', 'get_ncs_groups', 'get_ncs_obj', 'get_number_of_atoms', 'get_number_of_models', 'get_occ', 'get_ramachandran_manager', 'get_refinement_flags', 'get_restraint_objects', 'get_restraints_manager', 'get_riding_h_manager', 'get_rotamer_id', 'get_rotamer_manager', 'get_searched_tls_selections', 'get_site_labels', 'get_site_symmetry_table', 'get_sites_cart', 'get_sites_frac', 'get_source_filename', 'get_specific_h_bond_type', 'get_specific_ion_radius', 'get_specific_vdw_radius', 'get_ss_annotation', 'get_states_collector', 'get_stop_for_unknowns', 'get_vdw_radii', 'get_xray_structure', 'h_counts', 'has_atoms_in_special_positions', 'has_hd', 'have_anomalous_scatterer_groups', 'hd_group_selections', 'ias_manager', 'idealize_h_minimization', 'idealize_h_riding', 'idealize_ncs_inplace', 'info', 'initialize_anomalous_scatterer_groups', 'input_model_format_cif', 'input_model_format_pdb', 'is_ca_only', 'is_inside_working_cell', 'is_neutron', 'is_same_model', 'is_similar_hierarchy', 'iselection', 'isolated_atoms_selection', 'last_resseq_as_int', 'link_records_in_pdb_format', 'log', 'macromolecule_plus_hetatms_by_chain_selections', 'merge_other_model', 'merge_other_models', 'model_as_mmcif', 'model_as_pdb', 'model_number', 'model_statistics_info', 'mtrix_expanded', 'mtrix_operators', 'ncs_constraints_present', 'ncs_is_strict', 'neutralize_scatterers', 'neutron_scattering_dict', 'non_bonded_overlaps', 'normalize_adjacent_adp', 'number_of_ordered_solvent_molecules', 'occupancy_statistics', 'original_xh_lengths', 'overall_counts', 'pairs_within', 'pdb_or_mmcif_string_info', 'percent_of_single_atom_residues', 'process', 'processed', 'raise_clash_guard', 'raise_excessive_site_distances_cartesian_ncs', 'refinement_flags', 'remarks', 'remove_alternative_conformations', 'remove_hydrogens', 'remove_ias', 'remove_solvent', 'renumber_water', 'replace_model_hierarchy_with_other', 'reprocess_pdb_hierarchy_inefficient', 'reset_adp_for_hydrogens', 'reset_adp_of_hd_sites_to_be_equal', 'reset_after_changing_hierarchy', 'reset_coordinates_for_exchangable_hd', 'reset_occupancies_for_hydrogens', 'reset_occupancy_for_hydrogens_simple', 'restore_xh_bonds', 'restraints_as_geo', 'restraints_manager', 'restraints_manager_available', 'restraints_manager_energies_sites', 'riding_h_manager', 'rms_b_iso_or_b_equiv', 'rms_b_iso_or_b_equiv_bonded', 'rotamer_outlier_selection', 'rotatable_hd_selection', 'scale_adp', 'scattering_dict_info', 'scattering_dictionary', 'scattering_types_counts_and_occupancy_sums', 'search_for_ncs', 'sel_backbone', 'sel_sidechain', 'select', 'selection', 'set_anomalous_scatterer_groups', 'set_b_iso', 'set_crystal_symmetry', 'set_crystal_symmetry_and_sites_cart', 'set_hydrogen_bond_length', 'set_info', 'set_log', 'set_model_number', 'set_non_unit_occupancy_implies_min_distance_sym_equiv_zero', 'set_occupancies', 'set_ramachandran_plot_restraints', 'set_reference_coordinate_restraints', 'set_reference_torsion_restraints', 'set_refine_individual_adp', 'set_refine_individual_sites', 'set_refinement_flags', 'set_restraint_objects', 'set_sequences', 'set_shift_cart', 'set_sites_cart', 'set_sites_cart_from_hierarchy', 'set_ss_annotation', 'set_stop_for_unknowns', 'set_symmetry_and_shift_to_match_other', 'set_unit_cell_crystal_symmetry', 'set_unit_cell_crystal_symmetry_and_shift_cart', 'set_up_methods_from_hierarchy', 'set_xray_structure', 'setup_cartesian_ncs_groups', 'setup_ncs_constraints_groups', 'setup_riding_h_manager', 'setup_scattering_dictionaries', 'setup_torsion_ncs_restraints', 'shift_cart', 'shift_model_and_set_crystal_symmetry', 'shift_model_back', 'shifted', 'show_adp_statistics', 'show_groups', 'show_h_counts', 'show_occupancy_statistics', 'show_rigid_bond_test', 'size', 'solvent_selection', 'tls_groups', 'tls_groups_as_cif_block', 'tls_groups_as_pdb', 'torsion_NCS_as_pdb', 'torsion_NCS_present', 'torsion_ncs_restraints_update', 'twin_law_from_model_input', 'unit_cell_crystal_symmetry', 'unset_ncs_constraints_groups', 'unset_ramachandran_plot_restraints', 'unset_restraints_manager', 'unset_riding_h_manager', 'update_anomalous_groups', 'update_ncs_operators', 'update_xrs', 'use_ias', 'xh_connectivity_table', 'xh_connectivity_table2', 'xray_scattering_dict', 'xray_structure_macromolecule']\n"
          ]
        }
      ]
    },
    {
      "cell_type": "markdown",
      "source": [
        "## How to access metadata\n",
        "First we will consider the model metadata which is stored in the model input object. In contrast to the model composition which is highly structured data, the model input can vary substantially depending on the source of the file and what the authors chose to include. Lets take a look at the model input for this file. Execute the cell below to get the model_input object."
      ],
      "metadata": {
        "id": "omfLc0DkGdX9"
      }
    },
    {
      "cell_type": "code",
      "source": [
        "model_input= model_1_ob.get_model_input()"
      ],
      "metadata": {
        "id": "Ilge4APrGtxQ"
      },
      "execution_count": 72,
      "outputs": []
    },
    {
      "cell_type": "markdown",
      "source": [
        "Now let's print out some characteristics.| Some fields are structured, and are directly accessible by member functions."
      ],
      "metadata": {
        "id": "SxhUXVfgG5fd"
      }
    },
    {
      "cell_type": "code",
      "source": [
        "print(model_input.file_type())\n",
        "print(model_input.get_experiment_type())\n",
        "print(model_input.get_program_name())\n",
        "print(model_input.deposition_date())\n",
        "print(model_input.resolution())\n",
        "print(model_input.sequence_from_SEQRES())"
      ],
      "metadata": {
        "id": "em6krlefHAgK",
        "outputId": "a9fa5a20-27ca-4841-edc0-049c21e175cb",
        "colab": {
          "base_uri": "https://localhost:8080/"
        }
      },
      "execution_count": 73,
      "outputs": [
        {
          "output_type": "stream",
          "name": "stdout",
          "text": [
            "pdb\n",
            "X-RAY DIFFRACTION\n",
            "X-PLOR\n",
            "1992-04-24\n",
            "1.45\n",
            ">chain A\n",
            "MFKVYGYDSNIHKCGPCDNAKRLLTVKKQPFEFINIMPEKGVFDDEKIAELLTKLGRDTQIGLTMPQVFAPDGSHIGGFDQLREYFK\n"
          ]
        }
      ]
    },
    {
      "cell_type": "markdown",
      "source": [
        "The entire contents of the file are retained, and can be parsed to extract miscellaneous fields. Note that some fields relating to the data may not be populated."
      ],
      "metadata": {
        "id": "Z3LQZclUHNTz"
      }
    },
    {
      "cell_type": "code",
      "source": [
        "# Get the whole title section of the pdb\n",
        "print(\"\\n\".join(model_input.title_section()))"
      ],
      "metadata": {
        "id": "lOAiVJS6HOBp",
        "outputId": "58642a64-6c16-492b-a7f8-9f55352f901a",
        "colab": {
          "base_uri": "https://localhost:8080/"
        }
      },
      "execution_count": 74,
      "outputs": [
        {
          "output_type": "stream",
          "name": "stdout",
          "text": [
            "HEADER    ELECTRON TRANSPORT                      24-APR-92   1ABA\n",
            "TITLE     THE STRUCTURE OF OXIDIZED BACTERIOPHAGE T4 GLUTAREDOXIN (THIOREDOXIN).\n",
            "TITLE    2 REFINEMENT OF NATIVE AND MUTANT PROTEINS\n",
            "COMPND    MOL_ID: 1;\n",
            "COMPND   2 MOLECULE: GLUTAREDOXIN;\n",
            "COMPND   3 CHAIN: A;\n",
            "COMPND   4 ENGINEERED: YES\n",
            "SOURCE    MOL_ID: 1;\n",
            "SOURCE   2 ORGANISM_SCIENTIFIC: ENTEROBACTERIA PHAGE T4;\n",
            "SOURCE   3 ORGANISM_TAXID: 10665\n",
            "KEYWDS    ELECTRON TRANSPORT\n",
            "EXPDTA    X-RAY DIFFRACTION\n",
            "AUTHOR    H.EKLUND,M.INGELMAN,B.-O.SODERBERG,T.UHLIN,P.NORDLUND,M.NIKKOLA,\n",
            "AUTHOR   2 U.SONNERSTAM,T.JOELSON,K.PETRATOS\n",
            "REVDAT   3   05-JUN-24 1ABA    1       REMARK SEQADV\n",
            "REVDAT   2   24-FEB-09 1ABA    1       VERSN\n",
            "REVDAT   1   31-OCT-93 1ABA    0\n",
            "JRNL        AUTH   H.EKLUND,M.INGELMAN,B.O.SODERBERG,T.UHLIN,P.NORDLUND,\n",
            "JRNL        AUTH 2 M.NIKKOLA,U.SONNERSTAM,T.JOELSON,K.PETRATOS\n",
            "JRNL        TITL   STRUCTURE OF OXIDIZED BACTERIOPHAGE T4 GLUTAREDOXIN\n",
            "JRNL        TITL 2 (THIOREDOXIN). REFINEMENT OF NATIVE AND MUTANT PROTEINS.\n",
            "JRNL        REF    J.MOL.BIOL.                   V. 228   596 1992\n",
            "JRNL        REFN                   ISSN 0022-2836\n",
            "JRNL        PMID   1453466\n",
            "JRNL        DOI    10.1016/0022-2836(92)90844-A\n"
          ]
        }
      ]
    },
    {
      "cell_type": "markdown",
      "source": [
        "You can also access specific REMARK records, such as REMARK 3."
      ],
      "metadata": {
        "id": "ml6Y24H1Hqfe"
      }
    },
    {
      "cell_type": "code",
      "source": [
        "remark_3_records = model_input.extract_remark_iii_records(3)\n",
        "for rem in remark_3_records[:6]:\n",
        "  print(rem)"
      ],
      "metadata": {
        "id": "PBq6k4qQHuvx",
        "outputId": "82f32655-d13d-4179-d1ae-02a110619cd0",
        "colab": {
          "base_uri": "https://localhost:8080/"
        }
      },
      "execution_count": 75,
      "outputs": [
        {
          "output_type": "stream",
          "name": "stdout",
          "text": [
            "REMARK   3 REFINEMENT.\n",
            "REMARK   3   PROGRAM     : X-PLOR\n",
            "REMARK   3   AUTHORS     : BRUNGER\n",
            "REMARK   3  DATA USED IN REFINEMENT.\n",
            "REMARK   3   RESOLUTION RANGE HIGH (ANGSTROMS) : 1.45\n",
            "REMARK   3   RESOLUTION RANGE LOW  (ANGSTROMS) : NULL\n"
          ]
        }
      ]
    },
    {
      "cell_type": "markdown",
      "source": [
        "## Crystal Symmetry\n",
        "The crystal symmetry object stores structured data about the unit cell and space group"
      ],
      "metadata": {
        "id": "jtZxHHo_H5HU"
      }
    },
    {
      "cell_type": "code",
      "source": [
        "crystal_symmetry = model_1_ob.crystal_symmetry()\n",
        "crystal_symmetry.show_summary()"
      ],
      "metadata": {
        "id": "uj9tlkBYIIz-",
        "outputId": "20e56ee6-0da1-451a-e5aa-cd49c0f6437a",
        "colab": {
          "base_uri": "https://localhost:8080/"
        }
      },
      "execution_count": 76,
      "outputs": [
        {
          "output_type": "stream",
          "name": "stdout",
          "text": [
            "Unit cell: (30.2, 47.8, 61.3, 90, 90, 90)\n",
            "Space group: P 21 21 21 (No. 19)\n"
          ]
        }
      ]
    },
    {
      "cell_type": "markdown",
      "source": [
        "Here is how you can get the unit cell, space group, and operators."
      ],
      "metadata": {
        "id": "0j_uflrdIFrZ"
      }
    },
    {
      "cell_type": "code",
      "source": [
        "# unit cell\n",
        "print(crystal_symmetry.unit_cell())\n",
        "# space group number\n",
        "print(crystal_symmetry.space_group_number())\n",
        "# symbol and number\n",
        "print(crystal_symmetry.space_group_info().symbol_and_number())\n",
        "# space group operators\n",
        "ops = crystal_symmetry.space_group().all_ops()\n",
        "for op in ops:\n",
        "  print(op)"
      ],
      "metadata": {
        "id": "dYfAiDYVIxn5",
        "outputId": "207582e3-1f39-48b4-ea86-4326ce36b969",
        "colab": {
          "base_uri": "https://localhost:8080/"
        }
      },
      "execution_count": 77,
      "outputs": [
        {
          "output_type": "stream",
          "name": "stdout",
          "text": [
            "(30.2, 47.8, 61.3, 90, 90, 90)\n",
            "19\n",
            "P 21 21 21 (No. 19)\n",
            "x,y,z\n",
            "x+1/2,-y+1/2,-z\n",
            "-x,y+1/2,-z+1/2\n",
            "-x+1/2,-y,z+1/2\n"
          ]
        }
      ]
    },
    {
      "cell_type": "markdown",
      "source": [
        "# The pdb hierarchy\n",
        "The pdb hierarchy is the cctbx object that represents the information stored in a model file. In particular, this object maintains the hierarchical view of the model. It is independent of the original file format, i.e. the hierarchy object doesn't know or care if the original file was a PDB file, mmCIF file, or any other molecular file format.\n",
        "\n",
        "Let's get the pdb hierarchy for our toy example."
      ],
      "metadata": {
        "id": "AfDlSinbI_oS"
      }
    },
    {
      "cell_type": "code",
      "source": [
        "hierarchy = model_1_obj.get_hierarchy()"
      ],
      "metadata": {
        "id": "pQ-sm6gyJDm0"
      },
      "execution_count": 80,
      "outputs": []
    },
    {
      "cell_type": "markdown",
      "source": [
        "Now let's have a look at the compososition of the model. How many chains are in this model? How many ligands?"
      ],
      "metadata": {
        "id": "_JY_24joYLnm"
      }
    },
    {
      "cell_type": "code",
      "source": [
        "print(hierarchy.composition())"
      ],
      "metadata": {
        "id": "6-SqqBvqYmWs",
        "outputId": "98970fb8-f81a-4a5c-d26c-9a1a34e99909",
        "colab": {
          "base_uri": "https://localhost:8080/"
        }
      },
      "execution_count": 82,
      "outputs": [
        {
          "output_type": "stream",
          "name": "stdout",
          "text": [
            "group_args\n",
            "  n_atoms                        : 880\n",
            "  n_chains                       : 2\n",
            "  n_hd                           : 0\n",
            "  n_nucleotide                   : 0\n",
            "  n_nucleotide_atoms             : 0\n",
            "  n_other                        : 1\n",
            "  n_other_atoms                  : 12\n",
            "  n_protein                      : 87\n",
            "  n_protein_atoms                : 728\n",
            "  n_water                        : 140\n",
            "  n_water_atoms                  : 140\n",
            "  other_cnts                     : Counter({'MES': 1})\n"
          ]
        }
      ]
    },
    {
      "cell_type": "markdown",
      "source": [
        "The composition method returns a group_args object. This is a CCTBX object that is commonly returned as the result from CCTBX programs and methods. The advantage of the group_args object is that the contents can be accessed using dot syntax, ie:"
      ],
      "metadata": {
        "id": "TsYM2dkQZFl3"
      }
    },
    {
      "cell_type": "code",
      "source": [
        "comp = hierarchy.composition()\n",
        "n_atoms = comp.n_atoms\n",
        "print(n_atoms)"
      ],
      "metadata": {
        "id": "-qlHkUjJZVm2",
        "outputId": "a76bb7a6-a445-4407-ca83-5f7f69acf1c8",
        "colab": {
          "base_uri": "https://localhost:8080/"
        }
      },
      "execution_count": 83,
      "outputs": [
        {
          "output_type": "stream",
          "name": "stdout",
          "text": [
            "880\n"
          ]
        }
      ]
    },
    {
      "cell_type": "markdown",
      "source": [
        "### Architecture of the hierarchy object\n",
        "\n",
        "```\n",
        "model(s)\n",
        "  id\n",
        "  chain(s)\n",
        "    id\n",
        "    residue_group(s)\n",
        "      resseq\n",
        "      icode\n",
        "      atom_group(s)\n",
        "        altloc,\n",
        "        resname\n",
        "          atom(s)\n",
        "            name\n",
        "            element\n",
        "            charge\n",
        "            xyz\n",
        "            occ\n",
        "            b\n",
        "```\n",
        " - The model, chain, and atom levels of the hierarchy object are probably immediately obvious to someone familiar with the content of model files (such as a PDB file). Note that that is no 'residue' level in the data structure. Instead, there are the two types residue_group and atom_group. They are related to alternative conformations.\n",
        "\n",
        " - If there are no alternative conformations in the model, all residue groups contain exactly one atom group, which contains all the atoms of a residue. A file with alternative conformations will lead to residue groups with multiple atom groups, one for each conformer. (Note: about a quarter of the files in the PDB database contain alternative conformations).\n",
        "\n",
        "\n",
        "#### Looping over hierarchy\n",
        "\n",
        "It is often useful to loop over the hierarchy to perform actions on certain components of the model."
      ],
      "metadata": {
        "id": "_3wy9bofcBpc"
      }
    },
    {
      "cell_type": "code",
      "source": [
        "for m in hierarchy.models():\n",
        "  for chain in m.chains():\n",
        "    for rg in chain.residue_groups():\n",
        "      for ag in rg.atom_groups():\n",
        "        for atom in ag.atoms():\n",
        "          # your code here\n",
        "          pass"
      ],
      "metadata": {
        "id": "76I9_EsQeg86"
      },
      "execution_count": 84,
      "outputs": []
    },
    {
      "cell_type": "markdown",
      "source": [
        "Let's print something for every tyrosine residue in the model."
      ],
      "metadata": {
        "id": "TepSKLoDerAK"
      }
    },
    {
      "cell_type": "code",
      "source": [
        "for m in hierarchy.models():\n",
        "  for chain in m.chains():\n",
        "    for rg in chain.residue_groups():\n",
        "      for ag in rg.atom_groups():\n",
        "        if ag.resname == 'TYR':\n",
        "          print('TYR ', rg.resseq)"
      ],
      "metadata": {
        "id": "xdbD6e2teyb6",
        "outputId": "1a100715-64e4-4e5c-8a4a-8a7ac4b67f2c",
        "colab": {
          "base_uri": "https://localhost:8080/"
        }
      },
      "execution_count": 85,
      "outputs": [
        {
          "output_type": "stream",
          "name": "stdout",
          "text": [
            "TYR     5\n",
            "TYR     7\n",
            "TYR    85\n",
            "TYR    85\n",
            "TYR    85\n"
          ]
        }
      ]
    },
    {
      "cell_type": "markdown",
      "source": [
        "There are three identical lines in the output for Tyrosine 85.\n",
        "\n",
        "Do you have any idea why that could be?\n",
        "\n",
        "In the following cell, try to play a bit with the elements of the hierarchy. You can use dir() to list the methods available for the components."
      ],
      "metadata": {
        "id": "kIJg1xwbfsVJ"
      }
    },
    {
      "cell_type": "code",
      "source": [
        "for m in hierarchy.models():\n",
        "  for chain in m.chains():\n",
        "    for rg in chain.residue_groups():\n",
        "      for ag in rg.atom_groups():\n",
        "        if ag.resname == 'TYR':\n",
        "          print('TYR ', rg.resseq)"
      ],
      "metadata": {
        "id": "lemlpbg3g04i",
        "outputId": "1df5ba8b-a6f8-4772-cb7c-cc0b8d74ef38",
        "colab": {
          "base_uri": "https://localhost:8080/"
        }
      },
      "execution_count": 86,
      "outputs": [
        {
          "output_type": "stream",
          "name": "stdout",
          "text": [
            "TYR     5\n",
            "TYR     7\n",
            "TYR    85\n",
            "TYR    85\n",
            "TYR    85\n"
          ]
        }
      ]
    },
    {
      "cell_type": "markdown",
      "source": [
        "Here is an example of what you could have come up with."
      ],
      "metadata": {
        "id": "MDNsvG8shO8J"
      }
    },
    {
      "cell_type": "code",
      "source": [
        "for m in hierarchy.models():\n",
        "  for chain in m.chains():\n",
        "    for rg in chain.residue_groups():\n",
        "      for ag in rg.atom_groups():\n",
        "        if ag.resname == 'TYR':\n",
        "          print('TYR ', rg.resseq, ag.altloc)"
      ],
      "metadata": {
        "id": "zT90v-KthSgE",
        "outputId": "9ec78024-62b8-4d3b-fa8c-ec06af65cd12",
        "colab": {
          "base_uri": "https://localhost:8080/"
        }
      },
      "execution_count": 89,
      "outputs": [
        {
          "output_type": "stream",
          "name": "stdout",
          "text": [
            "TYR     5 \n",
            "TYR     7 \n",
            "TYR    85 \n",
            "TYR    85 A\n",
            "TYR    85 B\n"
          ]
        }
      ]
    },
    {
      "cell_type": "markdown",
      "source": [
        "Tyrosine 85 has a double conformation which is split at the Calpha atom. This is why there are three atom groups. One for the common part (altloc is blanc), one for conformation A and one for conformation B."
      ],
      "metadata": {
        "id": "ODlDKYuThcJb"
      }
    },
    {
      "cell_type": "code",
      "source": [
        "from libtbx.program_template import ProgramTemplate\n",
        "from libtbx.utils import Sorry\n",
        "\n",
        "class TestProgram(ProgramTemplate):\n",
        "  program_name = \"new_program\"\n",
        "  description = \"\"\"\n",
        "This is a demo of my new program\n",
        "\"\"\"\n",
        "  master_phil_str = \"\"\"\n",
        "general_param = None\n",
        "  .type = str\n",
        "  .help = A general parameter that is a string\n",
        "bool_param = None\n",
        "  .type = bool\n",
        "  .help = Something that is True or False\n",
        "parameter_section {\n",
        "  specific_param_1 = 0\n",
        "    .type = int\n",
        "    .help = This is an example of a numerical parameter in a PHIL section\n",
        "  specific_param_2 = 3.14\n",
        "    .type = float\n",
        "    .help = This is another example\n",
        "}\n",
        "\"\"\"\n",
        "  def validate(self):\n",
        "    if self.params.parameter_section.specific_param_1 < 0:\n",
        "      raise Sorry(\"The specific_param_1 must be 0 or greater\")\n",
        "\n",
        "  def run(self):\n",
        "    # just add some numbers\n",
        "    self.results = self.params.parameter_section.specific_param_1 + self.params.parameter_section.specific_param_2\n",
        "    self._print(self.results)\n",
        "\n",
        "  def get_results(self):\n",
        "    return self.results"
      ],
      "metadata": {
        "id": "grsKrY_6hvFC"
      },
      "execution_count": null,
      "outputs": []
    },
    {
      "cell_type": "code",
      "source": [
        "from iotbx.cli_parser import run_program\n",
        "\n",
        "#run_program(program_class=TestProgram, args=[])\n",
        "run_program(program_class=TestProgram, args=['bool_param=False', 'param_1=10'])"
      ],
      "metadata": {
        "id": "PPwl12CAHnwp",
        "outputId": "8f7347bb-a560-42aa-85c3-6840395bf9f9",
        "colab": {
          "base_uri": "https://localhost:8080/"
        }
      },
      "execution_count": null,
      "outputs": [
        {
          "output_type": "stream",
          "name": "stdout",
          "text": [
            "Starting new_program\n",
            "on Tue Sep 10 18:21:46 2024 by root\n",
            "===============================================================================\n",
            "\n",
            "Processing files:\n",
            "-------------------------------------------------------------------------------\n",
            "\n",
            "  No files found\n",
            "\n",
            "Processing PHIL parameters:\n",
            "-------------------------------------------------------------------------------\n",
            "\n",
            "  Adding command-line PHIL:\n",
            "  -------------------------\n",
            "    bool_param=False\n",
            "    param_1=10\n",
            "\n",
            "Final processed PHIL parameters:\n",
            "-------------------------------------------------------------------------------\n",
            "  bool_param = False\n",
            "  parameter_section {\n",
            "    specific_param_1 = 10\n",
            "  }\n",
            "\n",
            "\n",
            "Starting job\n",
            "===============================================================================\n",
            "13.14\n",
            "\n",
            "===============================================================================\n",
            "Job complete\n",
            "usr+sys time: 17.32 seconds\n",
            "wall clock time: 17.35 seconds\n"
          ]
        },
        {
          "output_type": "execute_result",
          "data": {
            "text/plain": [
              "13.14"
            ]
          },
          "metadata": {},
          "execution_count": 33
        }
      ]
    },
    {
      "cell_type": "code",
      "source": [],
      "metadata": {
        "id": "RnlRBkojIAKI"
      },
      "execution_count": null,
      "outputs": []
    }
  ]
}